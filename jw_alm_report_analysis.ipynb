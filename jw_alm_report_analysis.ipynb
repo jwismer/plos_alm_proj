{
 "cells": [
  {
   "cell_type": "code",
   "execution_count": 56,
   "metadata": {},
   "outputs": [],
   "source": [
    "import sagemaker\n",
    "import pandas as pd\n",
    "import matplotlib.pyplot as plt\n",
    "import numpy as np"
   ]
  },
  {
   "cell_type": "code",
   "execution_count": 57,
   "metadata": {},
   "outputs": [
    {
     "name": "stdout",
     "output_type": "stream",
     "text": [
      "mkdir: cannot create directory ‘./jwData’: File exists\r\n"
     ]
    }
   ],
   "source": [
    "!mkdir ./jwData"
   ]
  },
  {
   "cell_type": "code",
   "execution_count": 58,
   "metadata": {},
   "outputs": [
    {
     "name": "stdout",
     "output_type": "stream",
     "text": [
      "download: s3://jwismer/alm_report_2016-01-10.csv to jwData/alm_report_2016-01-10.csv\n"
     ]
    }
   ],
   "source": [
    "!aws s3 cp s3://jwismer/alm_report_2016-01-10.csv ./jwData"
   ]
  },
  {
   "cell_type": "code",
   "execution_count": 59,
   "metadata": {
    "scrolled": true
   },
   "outputs": [
    {
     "data": {
      "text/html": [
       "<div>\n",
       "<style scoped>\n",
       "    .dataframe tbody tr th:only-of-type {\n",
       "        vertical-align: middle;\n",
       "    }\n",
       "\n",
       "    .dataframe tbody tr th {\n",
       "        vertical-align: top;\n",
       "    }\n",
       "\n",
       "    .dataframe thead th {\n",
       "        text-align: right;\n",
       "    }\n",
       "</style>\n",
       "<table border=\"1\" class=\"dataframe\">\n",
       "  <thead>\n",
       "    <tr style=\"text-align: right;\">\n",
       "      <th></th>\n",
       "      <th>pid</th>\n",
       "      <th>publication_date</th>\n",
       "      <th>title</th>\n",
       "      <th>citeulike</th>\n",
       "      <th>mendeley</th>\n",
       "      <th>orcid</th>\n",
       "      <th>crossref</th>\n",
       "      <th>datacite</th>\n",
       "      <th>pmceurope</th>\n",
       "      <th>pmceuropedata</th>\n",
       "      <th>...</th>\n",
       "      <th>figshare</th>\n",
       "      <th>pmc</th>\n",
       "      <th>relativemetric</th>\n",
       "      <th>f1000</th>\n",
       "      <th>mendeley_readers</th>\n",
       "      <th>mendeley_groups</th>\n",
       "      <th>pmc_html</th>\n",
       "      <th>pmc_pdf</th>\n",
       "      <th>counter_html</th>\n",
       "      <th>counter_pdf</th>\n",
       "    </tr>\n",
       "  </thead>\n",
       "  <tbody>\n",
       "    <tr>\n",
       "      <th>0</th>\n",
       "      <td>http://doi.org/10.1371/journal.pbio.0000005</td>\n",
       "      <td>2003-08-18</td>\n",
       "      <td>The Transcriptome of the Intraerythrocytic Dev...</td>\n",
       "      <td>0</td>\n",
       "      <td>385</td>\n",
       "      <td>0</td>\n",
       "      <td>0</td>\n",
       "      <td>0</td>\n",
       "      <td>525</td>\n",
       "      <td>0</td>\n",
       "      <td>...</td>\n",
       "      <td>0</td>\n",
       "      <td>8005</td>\n",
       "      <td>2723698</td>\n",
       "      <td>3</td>\n",
       "      <td>372</td>\n",
       "      <td>13</td>\n",
       "      <td>5203</td>\n",
       "      <td>2802</td>\n",
       "      <td>40140</td>\n",
       "      <td>5702</td>\n",
       "    </tr>\n",
       "    <tr>\n",
       "      <th>1</th>\n",
       "      <td>http://doi.org/10.1371/journal.pbio.0000011</td>\n",
       "      <td>2003-08-18</td>\n",
       "      <td>Monitoring Malaria: Genomic Activity of the Pa...</td>\n",
       "      <td>0</td>\n",
       "      <td>3</td>\n",
       "      <td>0</td>\n",
       "      <td>0</td>\n",
       "      <td>0</td>\n",
       "      <td>0</td>\n",
       "      <td>0</td>\n",
       "      <td>...</td>\n",
       "      <td>0</td>\n",
       "      <td>1201</td>\n",
       "      <td>872174</td>\n",
       "      <td>0</td>\n",
       "      <td>3</td>\n",
       "      <td>0</td>\n",
       "      <td>910</td>\n",
       "      <td>291</td>\n",
       "      <td>5507</td>\n",
       "      <td>255</td>\n",
       "    </tr>\n",
       "    <tr>\n",
       "      <th>2</th>\n",
       "      <td>http://doi.org/10.1371/journal.pbio.0000006</td>\n",
       "      <td>2003-08-18</td>\n",
       "      <td>DNA Analysis Indicates That Asian Elephants Ar...</td>\n",
       "      <td>0</td>\n",
       "      <td>239</td>\n",
       "      <td>0</td>\n",
       "      <td>0</td>\n",
       "      <td>0</td>\n",
       "      <td>6</td>\n",
       "      <td>31</td>\n",
       "      <td>...</td>\n",
       "      <td>0</td>\n",
       "      <td>4077</td>\n",
       "      <td>1659323</td>\n",
       "      <td>0</td>\n",
       "      <td>231</td>\n",
       "      <td>8</td>\n",
       "      <td>3580</td>\n",
       "      <td>497</td>\n",
       "      <td>22045</td>\n",
       "      <td>2035</td>\n",
       "    </tr>\n",
       "    <tr>\n",
       "      <th>3</th>\n",
       "      <td>http://doi.org/10.1371/journal.pbio.0000007</td>\n",
       "      <td>2003-08-18</td>\n",
       "      <td>Borneo Elephants: A High Priority for Conserva...</td>\n",
       "      <td>0</td>\n",
       "      <td>0</td>\n",
       "      <td>0</td>\n",
       "      <td>0</td>\n",
       "      <td>0</td>\n",
       "      <td>0</td>\n",
       "      <td>0</td>\n",
       "      <td>...</td>\n",
       "      <td>0</td>\n",
       "      <td>1140</td>\n",
       "      <td>1833412</td>\n",
       "      <td>0</td>\n",
       "      <td>0</td>\n",
       "      <td>0</td>\n",
       "      <td>890</td>\n",
       "      <td>250</td>\n",
       "      <td>7685</td>\n",
       "      <td>501</td>\n",
       "    </tr>\n",
       "    <tr>\n",
       "      <th>4</th>\n",
       "      <td>http://doi.org/10.1371/journal.pbio.0000013</td>\n",
       "      <td>2003-09-15</td>\n",
       "      <td>&lt;i&gt;Drosophila&lt;/i&gt; Free-Running Rhythms Require...</td>\n",
       "      <td>0</td>\n",
       "      <td>113</td>\n",
       "      <td>0</td>\n",
       "      <td>0</td>\n",
       "      <td>0</td>\n",
       "      <td>89</td>\n",
       "      <td>5</td>\n",
       "      <td>...</td>\n",
       "      <td>6</td>\n",
       "      <td>2239</td>\n",
       "      <td>1762460</td>\n",
       "      <td>0</td>\n",
       "      <td>108</td>\n",
       "      <td>5</td>\n",
       "      <td>1688</td>\n",
       "      <td>551</td>\n",
       "      <td>12087</td>\n",
       "      <td>1325</td>\n",
       "    </tr>\n",
       "  </tbody>\n",
       "</table>\n",
       "<p>5 rows × 34 columns</p>\n",
       "</div>"
      ],
      "text/plain": [
       "                                           pid publication_date  \\\n",
       "0  http://doi.org/10.1371/journal.pbio.0000005       2003-08-18   \n",
       "1  http://doi.org/10.1371/journal.pbio.0000011       2003-08-18   \n",
       "2  http://doi.org/10.1371/journal.pbio.0000006       2003-08-18   \n",
       "3  http://doi.org/10.1371/journal.pbio.0000007       2003-08-18   \n",
       "4  http://doi.org/10.1371/journal.pbio.0000013       2003-09-15   \n",
       "\n",
       "                                               title  citeulike  mendeley  \\\n",
       "0  The Transcriptome of the Intraerythrocytic Dev...          0       385   \n",
       "1  Monitoring Malaria: Genomic Activity of the Pa...          0         3   \n",
       "2  DNA Analysis Indicates That Asian Elephants Ar...          0       239   \n",
       "3  Borneo Elephants: A High Priority for Conserva...          0         0   \n",
       "4  <i>Drosophila</i> Free-Running Rhythms Require...          0       113   \n",
       "\n",
       "   orcid  crossref  datacite  pmceurope  pmceuropedata     ...       figshare  \\\n",
       "0      0         0         0        525              0     ...              0   \n",
       "1      0         0         0          0              0     ...              0   \n",
       "2      0         0         0          6             31     ...              0   \n",
       "3      0         0         0          0              0     ...              0   \n",
       "4      0         0         0         89              5     ...              6   \n",
       "\n",
       "    pmc  relativemetric  f1000  mendeley_readers  mendeley_groups  pmc_html  \\\n",
       "0  8005         2723698      3               372               13      5203   \n",
       "1  1201          872174      0                 3                0       910   \n",
       "2  4077         1659323      0               231                8      3580   \n",
       "3  1140         1833412      0                 0                0       890   \n",
       "4  2239         1762460      0               108                5      1688   \n",
       "\n",
       "   pmc_pdf  counter_html  counter_pdf  \n",
       "0     2802         40140         5702  \n",
       "1      291          5507          255  \n",
       "2      497         22045         2035  \n",
       "3      250          7685          501  \n",
       "4      551         12087         1325  \n",
       "\n",
       "[5 rows x 34 columns]"
      ]
     },
     "execution_count": 59,
     "metadata": {},
     "output_type": "execute_result"
    }
   ],
   "source": [
    "df = pd.read_csv(\"./jwData/alm_report_2016-01-10.csv\")\n",
    "df.head()"
   ]
  },
  {
   "cell_type": "code",
   "execution_count": 60,
   "metadata": {},
   "outputs": [
    {
     "data": {
      "text/plain": [
       "(184925, 34)"
      ]
     },
     "execution_count": 60,
     "metadata": {},
     "output_type": "execute_result"
    }
   ],
   "source": [
    "df.shape"
   ]
  },
  {
   "cell_type": "code",
   "execution_count": 61,
   "metadata": {},
   "outputs": [],
   "source": [
    "# get pub year for analysis\n",
    "pub_year = np.array(df.publication_date.str.slice(0, 4))"
   ]
  },
  {
   "cell_type": "code",
   "execution_count": 62,
   "metadata": {},
   "outputs": [
    {
     "name": "stdout",
     "output_type": "stream",
     "text": [
      "[['2003' '2004' '2005' '2006' '2007' '2008' '2009' '2010' '2011' '2012'\n",
      "  '2013' '2014' '2015' '2016']\n",
      " [98 524 1055 1587 2646 4549 6653 9314 16710 27285 37244 40097 36541 622]]\n"
     ]
    },
    {
     "data": {
      "text/plain": [
       "<BarContainer object of 14 artists>"
      ]
     },
     "execution_count": 62,
     "metadata": {},
     "output_type": "execute_result"
    },
    {
     "data": {
      "image/png": "[encoded data removed]",
      "text/plain": [
       "<Figure size 432x288 with 1 Axes>"
      ]
     },
     "metadata": {},
     "output_type": "display_data"
    }
   ],
   "source": [
    "# visualize publications per year\n",
    "unique_years, counts_years = np.unique(pub_year, return_counts=True)\n",
    "print(np.asarray((unique_years, counts_years)))\n",
    "plt.bar(unique_years, counts_years)"
   ]
  },
  {
   "cell_type": "code",
   "execution_count": 63,
   "metadata": {
    "scrolled": true
   },
   "outputs": [
    {
     "name": "stdout",
     "output_type": "stream",
     "text": [
      "count    184925.000000\n",
      "mean         10.767879\n",
      "std          29.188459\n",
      "min           0.000000\n",
      "25%           0.000000\n",
      "50%           3.000000\n",
      "75%          11.000000\n",
      "max        3620.000000\n",
      "Name: cited, dtype: float64\n",
      "count    1.849250e+05\n",
      "mean     3.534520e+03\n",
      "std      7.425073e+03\n",
      "min      0.000000e+00\n",
      "25%      1.125000e+03\n",
      "50%      2.225000e+03\n",
      "75%      4.047000e+03\n",
      "max      1.534681e+06\n",
      "Name: viewed, dtype: float64\n",
      "count    184925.000000\n",
      "mean         20.958378\n",
      "std         160.047696\n",
      "min           0.000000\n",
      "25%           3.000000\n",
      "50%          11.000000\n",
      "75%          24.000000\n",
      "max       48103.000000\n",
      "Name: saved, dtype: float64\n",
      "count    184925.000000\n",
      "mean         24.293378\n",
      "std         357.180198\n",
      "min           0.000000\n",
      "25%           0.000000\n",
      "50%           0.000000\n",
      "75%           2.000000\n",
      "max       19993.000000\n",
      "Name: social, dtype: float64\n"
     ]
    }
   ],
   "source": [
    "from pandas import DataFrame\n",
    "# sum citation related fields\n",
    "alm: DataFrame = df.assign(cited=lambda df: (df.scopus + df.crossref + df.pubmed + df.datacite))\n",
    "print(alm.cited.describe())\n",
    "# sum view related fields\n",
    "alm = alm.assign(viewed=lambda df: df.pmceurope + df.counter_html + df.counter_pdf + df.pmc_html + df.pmc_pdf)\n",
    "print(alm.viewed.describe())\n",
    "# sum item saved fields\n",
    "alm = alm.assign(saved=lambda df: df.citeulike + df.mendeley)\n",
    "print(alm.saved.describe())\n",
    "# sum social activity related fields\n",
    "alm = alm.assign(social=lambda df: df.f1000 + df.reddit + df.twitter + df.facebook + df.plos_comments + df.figshare + df.wikipedia)\n",
    "print(alm.social.describe())"
   ]
  },
  {
   "cell_type": "code",
   "execution_count": 64,
   "metadata": {},
   "outputs": [
    {
     "name": "stdout",
     "output_type": "stream",
     "text": [
      "Index(['pid', 'cited', 'viewed', 'saved', 'social'], dtype='object')\n"
     ]
    }
   ],
   "source": [
    "# tidy up\n",
    "alm_reduced = alm[['pid', 'cited', 'viewed', 'saved', 'social']].copy()\n",
    "print(alm_reduced.columns)"
   ]
  },
  {
   "cell_type": "code",
   "execution_count": 65,
   "metadata": {},
   "outputs": [
    {
     "data": {
      "text/plain": [
       "pid       0\n",
       "cited     0\n",
       "viewed    0\n",
       "saved     0\n",
       "social    0\n",
       "dtype: int64"
      ]
     },
     "execution_count": 65,
     "metadata": {},
     "output_type": "execute_result"
    }
   ],
   "source": [
    "alm_reduced.isna().sum()"
   ]
  },
  {
   "cell_type": "code",
   "execution_count": 66,
   "metadata": {
    "scrolled": true
   },
   "outputs": [
    {
     "data": {
      "text/plain": [
       "<matplotlib.axes._subplots.AxesSubplot at 0x7fdfdb9894a8>"
      ]
     },
     "execution_count": 66,
     "metadata": {},
     "output_type": "execute_result"
    },
    {
     "data": {
      "image/png": "[encoded data removed]",
      "text/plain": [
       "<Figure size 432x288 with 1 Axes>"
      ]
     },
     "metadata": {},
     "output_type": "display_data"
    },
    {
     "data": {
      "image/png": "[encoded data removed]",
      "text/plain": [
       "<Figure size 432x288 with 1 Axes>"
      ]
     },
     "metadata": {},
     "output_type": "display_data"
    },
    {
     "data": {
      "image/png": "[encoded data removed]",
      "text/plain": [
       "<Figure size 432x288 with 1 Axes>"
      ]
     },
     "metadata": {},
     "output_type": "display_data"
    }
   ],
   "source": [
    "# let's look at some scatter plots for any correlations\n",
    "alm_reduced.plot.scatter(x='cited', y='viewed')\n",
    "alm_reduced.plot.scatter(x='cited', y='saved')\n",
    "alm_reduced.plot.scatter(x='cited', y='social')"
   ]
  },
  {
   "cell_type": "code",
   "execution_count": 67,
   "metadata": {
    "scrolled": false
   },
   "outputs": [],
   "source": [
    "# Convert cited to boolean -- this will be the X in the analysis\n",
    "alm_reduced.cited = alm_reduced.cited.astype('bool')"
   ]
  },
  {
   "cell_type": "code",
   "execution_count": 68,
   "metadata": {},
   "outputs": [
    {
     "name": "stdout",
     "output_type": "stream",
     "text": [
      "(129447, 5)\n",
      "(27739, 5)\n",
      "(27739, 5)\n"
     ]
    }
   ],
   "source": [
    "# split into training and test datasets\n",
    "from sklearn.model_selection import train_test_split\n",
    "alm_train, alm_test = train_test_split(alm_reduced,test_size=0.3)\n",
    "alm_validate, alm_test = train_test_split(alm_test,test_size=0.5)\n",
    "print(alm_train.shape)\n",
    "print(alm_validate.shape)\n",
    "print(alm_test.shape)"
   ]
  },
  {
   "cell_type": "code",
   "execution_count": 69,
   "metadata": {},
   "outputs": [
    {
     "name": "stdout",
     "output_type": "stream",
     "text": [
      "[[8.4000e+02 4.0000e+00 0.0000e+00]\n",
      " [3.4430e+03 1.1000e+01 0.0000e+00]\n",
      " [1.3943e+04 4.3000e+01 8.5000e+01]\n",
      " ...\n",
      " [4.3000e+01 0.0000e+00 0.0000e+00]\n",
      " [4.7680e+03 2.5000e+01 0.0000e+00]\n",
      " [0.0000e+00 0.0000e+00 0.0000e+00]]\n",
      "[1. 1. 1. ... 0. 1. 0.]\n"
     ]
    }
   ],
   "source": [
    "# views, saves, social\n",
    "modelData = np.array(alm_train.loc[:,'viewed':'social']).astype('float32')\n",
    "# is_cited is target\n",
    "target = np.array(alm_train['cited']).astype('float32')\n",
    "#Verify that the conversion worked\n",
    "print(modelData)\n",
    "print(target)"
   ]
  },
  {
   "cell_type": "code",
   "execution_count": 77,
   "metadata": {},
   "outputs": [
    {
     "name": "stdout",
     "output_type": "stream",
     "text": [
      "[[0.000e+00 0.000e+00 0.000e+00]\n",
      " [1.404e+03 5.000e+00 0.000e+00]\n",
      " [1.843e+03 4.000e+00 0.000e+00]\n",
      " ...\n",
      " [8.970e+02 5.000e+00 2.000e+00]\n",
      " [4.288e+03 1.500e+01 1.000e+00]\n",
      " [3.352e+03 0.000e+00 0.000e+00]]\n"
     ]
    }
   ],
   "source": [
    "# test data setup\n",
    "modelData_validate = np.array(alm_validate.loc[:,'viewed':'social']).astype('float32')\n",
    "#Verify that the conversion worked\n",
    "print(modelData_validate)"
   ]
  },
  {
   "cell_type": "code",
   "execution_count": 71,
   "metadata": {},
   "outputs": [
    {
     "name": "stdout",
     "output_type": "stream",
     "text": [
      "uploaded training data location: s3://jwismer/ALM/test/train/linearlearner\n",
      "training artifacts will be uploaded to: s3://jwismer/ALM/test/output\n"
     ]
    }
   ],
   "source": [
    "import boto3\n",
    "import sagemaker\n",
    "import io\n",
    "import os\n",
    "import sagemaker.amazon.common as smac\n",
    "# Create new sagemaker session\n",
    "sess = sagemaker.Session()\n",
    "# S3 bucket to export results to\n",
    "bucket = \"jwismer\"\n",
    "prefix = \"ALM/test\"\n",
    "# Use the IO buffer as dataset is small\n",
    "buf = io.BytesIO()\n",
    "smac.write_numpy_to_dense_tensor(buf, modelData, target)\n",
    "buf.seek(0)\n",
    "key = 'linearlearner'\n",
    "boto3.resource('s3').Bucket(bucket).Object(os.path.join(prefix, 'train', key)).upload_fileobj(buf)\n",
    "s3_train_data = 's3://{}/{}/train/{}'.format(bucket, prefix, key)\n",
    "print('uploaded training data location: {}'.format(s3_train_data))\n",
    "output_location = 's3://{}/{}/output'.format(bucket, prefix)\n",
    "print('training artifacts will be uploaded to: {}'.format(output_location))\n",
    "# Use multiple regions for ML model\n",
    "containers = {'us-east-1': '382416733822.dkr.ecr.us-east-1.amazonaws.com/linear-learner:latest',\n",
    "              'us-east-2': '404615174143.dkr.ecr.us-east-2.amazonaws.com/linear-learner:latest'}"
   ]
  },
  {
   "cell_type": "code",
   "execution_count": 72,
   "metadata": {},
   "outputs": [],
   "source": [
    "from sagemaker import get_execution_role\n",
    "role = get_execution_role()\n",
    "linear = sagemaker.estimator.Estimator(containers[boto3.Session().region_name],\n",
    "                                       role, \n",
    "                                       train_instance_count=1, \n",
    "                                       train_instance_type='ml.c4.xlarge',\n",
    "                                       output_path=output_location,\n",
    "                                       sagemaker_session=sess)\n"
   ]
  },
  {
   "cell_type": "code",
   "execution_count": 73,
   "metadata": {},
   "outputs": [],
   "source": [
    "linear.set_hyperparameters(feature_dim=3,\n",
    "                           predictor_type='binary_classifier',\n",
    "                           normalize_data=True)"
   ]
  },
  {
   "cell_type": "code",
   "execution_count": 74,
   "metadata": {},
   "outputs": [
    {
     "name": "stdout",
     "output_type": "stream",
     "text": [
      "2019-05-09 17:15:45 Starting - Starting the training job...\n",
      "2019-05-09 17:15:48 Starting - Launching requested ML instances......\n",
      "2019-05-09 17:16:56 Starting - Preparing the instances for training...\n",
      "2019-05-09 17:17:44 Downloading - Downloading input data...\n",
      "2019-05-09 17:17:56 Training - Downloading the training image...\n",
      "2019-05-09 17:18:30 Training - Training image download completed. Training in progress.\n",
      "\u001b[31mDocker entrypoint called with argument(s): train\u001b[0m\n",
      "\u001b[31m[05/09/2019 17:18:32 INFO 140071535105856] Reading default configuration from /opt/amazon/lib/python2.7/site-packages/algorithm/default-input.json: {u'loss_insensitivity': u'0.01', u'epochs': u'15', u'init_bias': u'0.0', u'lr_scheduler_factor': u'auto', u'num_calibration_samples': u'10000000', u'accuracy_top_k': u'3', u'_num_kv_servers': u'auto', u'use_bias': u'true', u'num_point_for_scaler': u'10000', u'_log_level': u'info', u'quantile': u'0.5', u'bias_lr_mult': u'auto', u'lr_scheduler_step': u'auto', u'init_method': u'uniform', u'init_sigma': u'0.01', u'lr_scheduler_minimum_lr': u'auto', u'target_recall': u'0.8', u'num_models': u'auto', u'early_stopping_patience': u'3', u'momentum': u'auto', u'unbias_label': u'auto', u'wd': u'auto', u'optimizer': u'auto', u'_tuning_objective_metric': u'', u'early_stopping_tolerance': u'0.001', u'learning_rate': u'auto', u'_kvstore': u'auto', u'normalize_data': u'true', u'binary_classifier_model_selection_criteria': u'accuracy', u'use_lr_scheduler': u'true', u'target_precision': u'0.8', u'unbias_data': u'auto', u'init_scale': u'0.07', u'bias_wd_mult': u'auto', u'f_beta': u'1.0', u'mini_batch_size': u'1000', u'huber_delta': u'1.0', u'num_classes': u'1', u'beta_1': u'auto', u'loss': u'auto', u'beta_2': u'auto', u'_enable_profiler': u'false', u'normalize_label': u'auto', u'_num_gpus': u'auto', u'balance_multiclass_weights': u'false', u'positive_example_weight_mult': u'1.0', u'l1': u'auto', u'margin': u'1.0'}\u001b[0m\n",
      "\u001b[31m[05/09/2019 17:18:32 INFO 140071535105856] Reading provided configuration from /opt/ml/input/config/hyperparameters.json: {u'normalize_data': u'True', u'feature_dim': u'3', u'predictor_type': u'binary_classifier'}\u001b[0m\n",
      "\u001b[31m[05/09/2019 17:18:32 INFO 140071535105856] Final configuration: {u'loss_insensitivity': u'0.01', u'epochs': u'15', u'feature_dim': u'3', u'init_bias': u'0.0', u'lr_scheduler_factor': u'auto', u'num_calibration_samples': u'10000000', u'accuracy_top_k': u'3', u'_num_kv_servers': u'auto', u'use_bias': u'true', u'num_point_for_scaler': u'10000', u'_log_level': u'info', u'quantile': u'0.5', u'bias_lr_mult': u'auto', u'lr_scheduler_step': u'auto', u'init_method': u'uniform', u'init_sigma': u'0.01', u'lr_scheduler_minimum_lr': u'auto', u'target_recall': u'0.8', u'num_models': u'auto', u'early_stopping_patience': u'3', u'momentum': u'auto', u'unbias_label': u'auto', u'wd': u'auto', u'optimizer': u'auto', u'_tuning_objective_metric': u'', u'early_stopping_tolerance': u'0.001', u'learning_rate': u'auto', u'_kvstore': u'auto', u'normalize_data': u'True', u'binary_classifier_model_selection_criteria': u'accuracy', u'use_lr_scheduler': u'true', u'target_precision': u'0.8', u'unbias_data': u'auto', u'init_scale': u'0.07', u'bias_wd_mult': u'auto', u'f_beta': u'1.0', u'mini_batch_size': u'1000', u'huber_delta': u'1.0', u'num_classes': u'1', u'predictor_type': u'binary_classifier', u'beta_1': u'auto', u'loss': u'auto', u'beta_2': u'auto', u'_enable_profiler': u'false', u'normalize_label': u'auto', u'_num_gpus': u'auto', u'balance_multiclass_weights': u'false', u'positive_example_weight_mult': u'1.0', u'l1': u'auto', u'margin': u'1.0'}\u001b[0m\n",
      "\u001b[31m[05/09/2019 17:18:32 WARNING 140071535105856] Loggers have already been setup.\u001b[0m\n",
      "\u001b[31mProcess 1 is a worker.\u001b[0m\n",
      "\u001b[31m[05/09/2019 17:18:32 INFO 140071535105856] Using default worker.\u001b[0m\n",
      "\u001b[31m[2019-05-09 17:18:32.196] [tensorio] [info] batch={\"data_pipeline\": \"/opt/ml/input/data/train\", \"num_examples\": 1000, \"features\": [{\"name\": \"label_values\", \"shape\": [1], \"storage_type\": \"dense\"}, {\"name\": \"values\", \"shape\": [3], \"storage_type\": \"dense\"}]}\u001b[0m\n",
      "\u001b[31m[2019-05-09 17:18:32.225] [tensorio] [info] data_pipeline_stats={\"name\": \"/opt/ml/input/data/train\", \"epoch\": 0, \"duration\": 30, \"num_examples\": 1}\u001b[0m\n",
      "\u001b[31m[05/09/2019 17:18:32 INFO 140071535105856] Create Store: local\u001b[0m\n",
      "\u001b[31m[2019-05-09 17:18:32.398] [tensorio] [info] data_pipeline_stats={\"name\": \"/opt/ml/input/data/train\", \"epoch\": 1, \"duration\": 172, \"num_examples\": 11}\u001b[0m\n",
      "\u001b[31m[05/09/2019 17:18:32 INFO 140071535105856] Scaler algorithm parameters\n",
      " <algorithm.scaler.ScalerAlgorithmStable object at 0x7f64a1eddad0>\u001b[0m\n",
      "\u001b[31m[05/09/2019 17:18:32 INFO 140071535105856] Scaling model computed with parameters:\n",
      " {'stdev_weight': \u001b[0m\n",
      "\u001b[31m[ 7095.82177734    40.95489883   291.31002808]\u001b[0m\n",
      "\u001b[31m<NDArray 3 @cpu(0)>, 'stdev_label': None, 'mean_label': None, 'mean_weight': \u001b[0m\n",
      "\u001b[31m[ 3577.73681641    20.7648201     18.95691109]\u001b[0m\n",
      "\u001b[31m<NDArray 3 @cpu(0)>}\u001b[0m\n",
      "\u001b[31m[05/09/2019 17:18:32 INFO 140071535105856] nvidia-smi took: 0.0251958370209 secs to identify 0 gpus\u001b[0m\n",
      "\u001b[31m[05/09/2019 17:18:32 INFO 140071535105856] Number of GPUs being used: 0\u001b[0m\n",
      "\u001b[31m#metrics {\"Metrics\": {\"Max Batches Seen Between Resets\": {\"count\": 1, \"max\": 11, \"sum\": 11.0, \"min\": 11}, \"Number of Batches Since Last Reset\": {\"count\": 1, \"max\": 0, \"sum\": 0.0, \"min\": 0}, \"Number of Records Since Last Reset\": {\"count\": 1, \"max\": 0, \"sum\": 0.0, \"min\": 0}, \"Total Batches Seen\": {\"count\": 1, \"max\": 12, \"sum\": 12.0, \"min\": 12}, \"Total Records Seen\": {\"count\": 1, \"max\": 12000, \"sum\": 12000.0, \"min\": 12000}, \"Max Records Seen Between Resets\": {\"count\": 1, \"max\": 11000, \"sum\": 11000.0, \"min\": 11000}, \"Reset Count\": {\"count\": 1, \"max\": 2, \"sum\": 2.0, \"min\": 2}}, \"EndTime\": 1557422312.498267, \"Dimensions\": {\"Host\": \"algo-1\", \"Meta\": \"init_train_data_iter\", \"Operation\": \"training\", \"Algorithm\": \"Linear Learner\"}, \"StartTime\": 1557422312.498231}\n",
      "\u001b[0m\n",
      "\u001b[31m#metrics {\"Metrics\": {\"train_binary_classification_cross_entropy_objective\": {\"count\": 1, \"max\": 0.5536111128459605, \"sum\": 0.5536111128459605, \"min\": 0.5536111128459605}}, \"EndTime\": 1557422316.343449, \"Dimensions\": {\"model\": 0, \"Host\": \"algo-1\", \"Operation\": \"training\", \"Algorithm\": \"Linear Learner\", \"epoch\": 0}, \"StartTime\": 1557422316.34338}\n",
      "\u001b[0m\n",
      "\u001b[31m#metrics {\"Metrics\": {\"train_binary_classification_cross_entropy_objective\": {\"count\": 1, \"max\": 0.5521312764485677, \"sum\": 0.5521312764485677, \"min\": 0.5521312764485677}}, \"EndTime\": 1557422316.34354, \"Dimensions\": {\"model\": 1, \"Host\": \"algo-1\", \"Operation\": \"training\", \"Algorithm\": \"Linear Learner\", \"epoch\": 0}, \"StartTime\": 1557422316.343522}\n",
      "\u001b[0m\n",
      "\u001b[31m#metrics {\"Metrics\": {\"train_binary_classification_cross_entropy_objective\": {\"count\": 1, \"max\": 0.5578996000068133, \"sum\": 0.5578996000068133, \"min\": 0.5578996000068133}}, \"EndTime\": 1557422316.343596, \"Dimensions\": {\"model\": 2, \"Host\": \"algo-1\", \"Operation\": \"training\", \"Algorithm\": \"Linear Learner\", \"epoch\": 0}, \"StartTime\": 1557422316.343581}\n",
      "\u001b[0m\n",
      "\u001b[31m#metrics {\"Metrics\": {\"train_binary_classification_cross_entropy_objective\": {\"count\": 1, \"max\": 0.5505487282923026, \"sum\": 0.5505487282923026, \"min\": 0.5505487282923026}}, \"EndTime\": 1557422316.343648, \"Dimensions\": {\"model\": 3, \"Host\": \"algo-1\", \"Operation\": \"training\", \"Algorithm\": \"Linear Learner\", \"epoch\": 0}, \"StartTime\": 1557422316.343634}\n",
      "\u001b[0m\n",
      "\u001b[31m#metrics {\"Metrics\": {\"train_binary_classification_cross_entropy_objective\": {\"count\": 1, \"max\": 0.4006003867452459, \"sum\": 0.4006003867452459, \"min\": 0.4006003867452459}}, \"EndTime\": 1557422316.343697, \"Dimensions\": {\"model\": 4, \"Host\": \"algo-1\", \"Operation\": \"training\", \"Algorithm\": \"Linear Learner\", \"epoch\": 0}, \"StartTime\": 1557422316.343684}\n",
      "\u001b[0m\n",
      "\u001b[31m#metrics {\"Metrics\": {\"train_binary_classification_cross_entropy_objective\": {\"count\": 1, \"max\": 0.40043917799365614, \"sum\": 0.40043917799365614, \"min\": 0.40043917799365614}}, \"EndTime\": 1557422316.343743, \"Dimensions\": {\"model\": 5, \"Host\": \"algo-1\", \"Operation\": \"training\", \"Algorithm\": \"Linear Learner\", \"epoch\": 0}, \"StartTime\": 1557422316.34373}\n",
      "\u001b[0m\n",
      "\u001b[31m#metrics {\"Metrics\": {\"train_binary_classification_cross_entropy_objective\": {\"count\": 1, \"max\": 0.4014483621286791, \"sum\": 0.4014483621286791, \"min\": 0.4014483621286791}}, \"EndTime\": 1557422316.343799, \"Dimensions\": {\"model\": 6, \"Host\": \"algo-1\", \"Operation\": \"training\", \"Algorithm\": \"Linear Learner\", \"epoch\": 0}, \"StartTime\": 1557422316.343783}\n",
      "\u001b[0m\n",
      "\u001b[31m#metrics {\"Metrics\": {\"train_binary_classification_cross_entropy_objective\": {\"count\": 1, \"max\": 0.39874626076868336, \"sum\": 0.39874626076868336, \"min\": 0.39874626076868336}}, \"EndTime\": 1557422316.343854, \"Dimensions\": {\"model\": 7, \"Host\": \"algo-1\", \"Operation\": \"training\", \"Algorithm\": \"Linear Learner\", \"epoch\": 0}, \"StartTime\": 1557422316.343838}\n",
      "\u001b[0m\n",
      "\u001b[31m#metrics {\"Metrics\": {\"train_binary_classification_cross_entropy_objective\": {\"count\": 1, \"max\": 0.5569934174293696, \"sum\": 0.5569934174293696, \"min\": 0.5569934174293696}}, \"EndTime\": 1557422316.343901, \"Dimensions\": {\"model\": 8, \"Host\": \"algo-1\", \"Operation\": \"training\", \"Algorithm\": \"Linear Learner\", \"epoch\": 0}, \"StartTime\": 1557422316.343888}\n",
      "\u001b[0m\n",
      "\u001b[31m#metrics {\"Metrics\": {\"train_binary_classification_cross_entropy_objective\": {\"count\": 1, \"max\": 0.5607521333916242, \"sum\": 0.5607521333916242, \"min\": 0.5607521333916242}}, \"EndTime\": 1557422316.343948, \"Dimensions\": {\"model\": 9, \"Host\": \"algo-1\", \"Operation\": \"training\", \"Algorithm\": \"Linear Learner\", \"epoch\": 0}, \"StartTime\": 1557422316.343936}\n",
      "\u001b[0m\n",
      "\u001b[31m#metrics {\"Metrics\": {\"train_binary_classification_cross_entropy_objective\": {\"count\": 1, \"max\": 0.5513096091100412, \"sum\": 0.5513096091100412, \"min\": 0.5513096091100412}}, \"EndTime\": 1557422316.34401, \"Dimensions\": {\"model\": 10, \"Host\": \"algo-1\", \"Operation\": \"training\", \"Algorithm\": \"Linear Learner\", \"epoch\": 0}, \"StartTime\": 1557422316.343994}\n",
      "\u001b[0m\n",
      "\u001b[31m#metrics {\"Metrics\": {\"train_binary_classification_cross_entropy_objective\": {\"count\": 1, \"max\": 0.5495032729511113, \"sum\": 0.5495032729511113, \"min\": 0.5495032729511113}}, \"EndTime\": 1557422316.344076, \"Dimensions\": {\"model\": 11, \"Host\": \"algo-1\", \"Operation\": \"training\", \"Algorithm\": \"Linear Learner\", \"epoch\": 0}, \"StartTime\": 1557422316.344059}\n",
      "\u001b[0m\n",
      "\u001b[31m#metrics {\"Metrics\": {\"train_binary_classification_cross_entropy_objective\": {\"count\": 1, \"max\": 0.43303202926280887, \"sum\": 0.43303202926280887, \"min\": 0.43303202926280887}}, \"EndTime\": 1557422316.344141, \"Dimensions\": {\"model\": 12, \"Host\": \"algo-1\", \"Operation\": \"training\", \"Algorithm\": \"Linear Learner\", \"epoch\": 0}, \"StartTime\": 1557422316.344125}\n",
      "\u001b[0m\n",
      "\u001b[31m#metrics {\"Metrics\": {\"train_binary_classification_cross_entropy_objective\": {\"count\": 1, \"max\": 0.43392987391745397, \"sum\": 0.43392987391745397, \"min\": 0.43392987391745397}}, \"EndTime\": 1557422316.344216, \"Dimensions\": {\"model\": 13, \"Host\": \"algo-1\", \"Operation\": \"training\", \"Algorithm\": \"Linear Learner\", \"epoch\": 0}, \"StartTime\": 1557422316.34419}\n",
      "\u001b[0m\n",
      "\u001b[31m#metrics {\"Metrics\": {\"train_binary_classification_cross_entropy_objective\": {\"count\": 1, \"max\": 0.4334557147358739, \"sum\": 0.4334557147358739, \"min\": 0.4334557147358739}}, \"EndTime\": 1557422316.344279, \"Dimensions\": {\"model\": 14, \"Host\": \"algo-1\", \"Operation\": \"training\", \"Algorithm\": \"Linear Learner\", \"epoch\": 0}, \"StartTime\": 1557422316.344263}\n",
      "\u001b[0m\n",
      "\u001b[31m#metrics {\"Metrics\": {\"train_binary_classification_cross_entropy_objective\": {\"count\": 1, \"max\": 0.4337201530988826, \"sum\": 0.4337201530988826, \"min\": 0.4337201530988826}}, \"EndTime\": 1557422316.344341, \"Dimensions\": {\"model\": 15, \"Host\": \"algo-1\", \"Operation\": \"training\", \"Algorithm\": \"Linear Learner\", \"epoch\": 0}, \"StartTime\": 1557422316.344325}\n",
      "\u001b[0m\n",
      "\u001b[31m#metrics {\"Metrics\": {\"train_binary_classification_cross_entropy_objective\": {\"count\": 1, \"max\": 0.5859254505246184, \"sum\": 0.5859254505246184, \"min\": 0.5859254505246184}}, \"EndTime\": 1557422316.344403, \"Dimensions\": {\"model\": 16, \"Host\": \"algo-1\", \"Operation\": \"training\", \"Algorithm\": \"Linear Learner\", \"epoch\": 0}, \"StartTime\": 1557422316.344387}\n",
      "\u001b[0m\n",
      "\u001b[31m#metrics {\"Metrics\": {\"train_binary_classification_cross_entropy_objective\": {\"count\": 1, \"max\": 0.5867000434343205, \"sum\": 0.5867000434343205, \"min\": 0.5867000434343205}}, \"EndTime\": 1557422316.344466, \"Dimensions\": {\"model\": 17, \"Host\": \"algo-1\", \"Operation\": \"training\", \"Algorithm\": \"Linear Learner\", \"epoch\": 0}, \"StartTime\": 1557422316.34445}\n",
      "\u001b[0m\n",
      "\u001b[31m#metrics {\"Metrics\": {\"train_binary_classification_cross_entropy_objective\": {\"count\": 1, \"max\": 0.587398713341055, \"sum\": 0.587398713341055, \"min\": 0.587398713341055}}, \"EndTime\": 1557422316.344526, \"Dimensions\": {\"model\": 18, \"Host\": \"algo-1\", \"Operation\": \"training\", \"Algorithm\": \"Linear Learner\", \"epoch\": 0}, \"StartTime\": 1557422316.344511}\n",
      "\u001b[0m\n",
      "\u001b[31m#metrics {\"Metrics\": {\"train_binary_classification_cross_entropy_objective\": {\"count\": 1, \"max\": 0.5870659643365431, \"sum\": 0.5870659643365431, \"min\": 0.5870659643365431}}, \"EndTime\": 1557422316.344587, \"Dimensions\": {\"model\": 19, \"Host\": \"algo-1\", \"Operation\": \"training\", \"Algorithm\": \"Linear Learner\", \"epoch\": 0}, \"StartTime\": 1557422316.344571}\n",
      "\u001b[0m\n",
      "\u001b[31m#metrics {\"Metrics\": {\"train_binary_classification_cross_entropy_objective\": {\"count\": 1, \"max\": 0.5845334529433139, \"sum\": 0.5845334529433139, \"min\": 0.5845334529433139}}, \"EndTime\": 1557422316.344649, \"Dimensions\": {\"model\": 20, \"Host\": \"algo-1\", \"Operation\": \"training\", \"Algorithm\": \"Linear Learner\", \"epoch\": 0}, \"StartTime\": 1557422316.344633}\n",
      "\u001b[0m\n",
      "\u001b[31m#metrics {\"Metrics\": {\"train_binary_classification_cross_entropy_objective\": {\"count\": 1, \"max\": 0.5847051912056384, \"sum\": 0.5847051912056384, \"min\": 0.5847051912056384}}, \"EndTime\": 1557422316.344709, \"Dimensions\": {\"model\": 21, \"Host\": \"algo-1\", \"Operation\": \"training\", \"Algorithm\": \"Linear Learner\", \"epoch\": 0}, \"StartTime\": 1557422316.344694}\n",
      "\u001b[0m\n",
      "\u001b[31m#metrics {\"Metrics\": {\"train_binary_classification_cross_entropy_objective\": {\"count\": 1, \"max\": 0.584549133773922, \"sum\": 0.584549133773922, \"min\": 0.584549133773922}}, \"EndTime\": 1557422316.344762, \"Dimensions\": {\"model\": 22, \"Host\": \"algo-1\", \"Operation\": \"training\", \"Algorithm\": \"Linear Learner\", \"epoch\": 0}, \"StartTime\": 1557422316.344748}\n",
      "\u001b[0m\n",
      "\u001b[31m#metrics {\"Metrics\": {\"train_binary_classification_cross_entropy_objective\": {\"count\": 1, \"max\": 0.5846561416507692, \"sum\": 0.5846561416507692, \"min\": 0.5846561416507692}}, \"EndTime\": 1557422316.344819, \"Dimensions\": {\"model\": 23, \"Host\": \"algo-1\", \"Operation\": \"training\", \"Algorithm\": \"Linear Learner\", \"epoch\": 0}, \"StartTime\": 1557422316.344804}\n",
      "\u001b[0m\n",
      "\u001b[31m#metrics {\"Metrics\": {\"train_binary_classification_cross_entropy_objective\": {\"count\": 1, \"max\": 0.60380938010992, \"sum\": 0.60380938010992, \"min\": 0.60380938010992}}, \"EndTime\": 1557422316.344877, \"Dimensions\": {\"model\": 24, \"Host\": \"algo-1\", \"Operation\": \"training\", \"Algorithm\": \"Linear Learner\", \"epoch\": 0}, \"StartTime\": 1557422316.344862}\n",
      "\u001b[0m\n",
      "\u001b[31m#metrics {\"Metrics\": {\"train_binary_classification_cross_entropy_objective\": {\"count\": 1, \"max\": 0.6038227756707243, \"sum\": 0.6038227756707243, \"min\": 0.6038227756707243}}, \"EndTime\": 1557422316.344969, \"Dimensions\": {\"model\": 25, \"Host\": \"algo-1\", \"Operation\": \"training\", \"Algorithm\": \"Linear Learner\", \"epoch\": 0}, \"StartTime\": 1557422316.34495}\n",
      "\u001b[0m\n",
      "\u001b[31m#metrics {\"Metrics\": {\"train_binary_classification_cross_entropy_objective\": {\"count\": 1, \"max\": 0.6034165190467539, \"sum\": 0.6034165190467539, \"min\": 0.6034165190467539}}, \"EndTime\": 1557422316.345025, \"Dimensions\": {\"model\": 26, \"Host\": \"algo-1\", \"Operation\": \"training\", \"Algorithm\": \"Linear Learner\", \"epoch\": 0}, \"StartTime\": 1557422316.34501}\n",
      "\u001b[0m\n",
      "\u001b[31m#metrics {\"Metrics\": {\"train_binary_classification_cross_entropy_objective\": {\"count\": 1, \"max\": 0.6038626533922299, \"sum\": 0.6038626533922299, \"min\": 0.6038626533922299}}, \"EndTime\": 1557422316.345075, \"Dimensions\": {\"model\": 27, \"Host\": \"algo-1\", \"Operation\": \"training\", \"Algorithm\": \"Linear Learner\", \"epoch\": 0}, \"StartTime\": 1557422316.345061}\n",
      "\u001b[0m\n",
      "\u001b[31m#metrics {\"Metrics\": {\"train_binary_classification_cross_entropy_objective\": {\"count\": 1, \"max\": 0.6030514985313711, \"sum\": 0.6030514985313711, \"min\": 0.6030514985313711}}, \"EndTime\": 1557422316.345124, \"Dimensions\": {\"model\": 28, \"Host\": \"algo-1\", \"Operation\": \"training\", \"Algorithm\": \"Linear Learner\", \"epoch\": 0}, \"StartTime\": 1557422316.345109}\n",
      "\u001b[0m\n",
      "\u001b[31m#metrics {\"Metrics\": {\"train_binary_classification_cross_entropy_objective\": {\"count\": 1, \"max\": 0.6031552620821221, \"sum\": 0.6031552620821221, \"min\": 0.6031552620821221}}, \"EndTime\": 1557422316.345176, \"Dimensions\": {\"model\": 29, \"Host\": \"algo-1\", \"Operation\": \"training\", \"Algorithm\": \"Linear Learner\", \"epoch\": 0}, \"StartTime\": 1557422316.345161}\n",
      "\u001b[0m\n",
      "\u001b[31m#metrics {\"Metrics\": {\"train_binary_classification_cross_entropy_objective\": {\"count\": 1, \"max\": 0.6029605741279069, \"sum\": 0.6029605741279069, \"min\": 0.6029605741279069}}, \"EndTime\": 1557422316.345232, \"Dimensions\": {\"model\": 30, \"Host\": \"algo-1\", \"Operation\": \"training\", \"Algorithm\": \"Linear Learner\", \"epoch\": 0}, \"StartTime\": 1557422316.345216}\n",
      "\u001b[0m\n",
      "\u001b[31m#metrics {\"Metrics\": {\"train_binary_classification_cross_entropy_objective\": {\"count\": 1, \"max\": 0.6031183599427689, \"sum\": 0.6031183599427689, \"min\": 0.6031183599427689}}, \"EndTime\": 1557422316.345286, \"Dimensions\": {\"model\": 31, \"Host\": \"algo-1\", \"Operation\": \"training\", \"Algorithm\": \"Linear Learner\", \"epoch\": 0}, \"StartTime\": 1557422316.345271}\n",
      "\u001b[0m\n",
      "\u001b[31m[05/09/2019 17:18:36 INFO 140071535105856] #quality_metric: host=algo-1, epoch=0, train binary_classification_cross_entropy_objective <loss>=0.553611112846\u001b[0m\n",
      "\u001b[31m[05/09/2019 17:18:36 INFO 140071535105856] #early_stopping_criteria_metric: host=algo-1, epoch=0, criteria=binary_classification_cross_entropy_objective, value=0.398746260769\u001b[0m\n",
      "\u001b[31m[05/09/2019 17:18:36 INFO 140071535105856] Epoch 0: Loss improved. Updating best model\u001b[0m\n",
      "\u001b[31m[05/09/2019 17:18:36 INFO 140071535105856] #progress_metric: host=algo-1, completed 6 % of epochs\u001b[0m\n",
      "\u001b[31m#metrics {\"Metrics\": {\"Max Batches Seen Between Resets\": {\"count\": 1, \"max\": 130, \"sum\": 130.0, \"min\": 130}, \"Number of Batches Since Last Reset\": {\"count\": 1, \"max\": 130, \"sum\": 130.0, \"min\": 130}, \"Number of Records Since Last Reset\": {\"count\": 1, \"max\": 129447, \"sum\": 129447.0, \"min\": 129447}, \"Total Batches Seen\": {\"count\": 1, \"max\": 142, \"sum\": 142.0, \"min\": 142}, \"Total Records Seen\": {\"count\": 1, \"max\": 141447, \"sum\": 141447.0, \"min\": 141447}, \"Max Records Seen Between Resets\": {\"count\": 1, \"max\": 129447, \"sum\": 129447.0, \"min\": 129447}, \"Reset Count\": {\"count\": 1, \"max\": 3, \"sum\": 3.0, \"min\": 3}}, \"EndTime\": 1557422316.348316, \"Dimensions\": {\"Host\": \"algo-1\", \"Meta\": \"training_data_iter\", \"Operation\": \"training\", \"Algorithm\": \"Linear Learner\", \"epoch\": 0}, \"StartTime\": 1557422312.498475}\n",
      "\u001b[0m\n",
      "\u001b[31m[05/09/2019 17:18:36 INFO 140071535105856] #throughput_metric: host=algo-1, train throughput=33622.9292995 records/second\u001b[0m\n",
      "\u001b[31m[2019-05-09 17:18:36.348] [tensorio] [info] data_pipeline_stats={\"name\": \"/opt/ml/input/data/train\", \"epoch\": 2, \"duration\": 3849, \"num_examples\": 130}\u001b[0m\n",
      "\u001b[31m#metrics {\"Metrics\": {\"train_binary_classification_cross_entropy_objective\": {\"count\": 1, \"max\": 0.4952100233920785, \"sum\": 0.4952100233920785, \"min\": 0.4952100233920785}}, \"EndTime\": 1557422320.288429, \"Dimensions\": {\"model\": 0, \"Host\": \"algo-1\", \"Operation\": \"training\", \"Algorithm\": \"Linear Learner\", \"epoch\": 1}, \"StartTime\": 1557422320.28836}\n",
      "\u001b[0m\n",
      "\u001b[31m#metrics {\"Metrics\": {\"train_binary_classification_cross_entropy_objective\": {\"count\": 1, \"max\": 0.4901289138202519, \"sum\": 0.4901289138202519, \"min\": 0.4901289138202519}}, \"EndTime\": 1557422320.288507, \"Dimensions\": {\"model\": 1, \"Host\": \"algo-1\", \"Operation\": \"training\", \"Algorithm\": \"Linear Learner\", \"epoch\": 1}, \"StartTime\": 1557422320.288495}\n",
      "\u001b[0m\n",
      "\u001b[31m#metrics {\"Metrics\": {\"train_binary_classification_cross_entropy_objective\": {\"count\": 1, \"max\": 0.4986962209302326, \"sum\": 0.4986962209302326, \"min\": 0.4986962209302326}}, \"EndTime\": 1557422320.288559, \"Dimensions\": {\"model\": 2, \"Host\": \"algo-1\", \"Operation\": \"training\", \"Algorithm\": \"Linear Learner\", \"epoch\": 1}, \"StartTime\": 1557422320.288546}\n",
      "\u001b[0m\n",
      "\u001b[31m#metrics {\"Metrics\": {\"train_binary_classification_cross_entropy_objective\": {\"count\": 1, \"max\": 0.48895544386279677, \"sum\": 0.48895544386279677, \"min\": 0.48895544386279677}}, \"EndTime\": 1557422320.288606, \"Dimensions\": {\"model\": 3, \"Host\": \"algo-1\", \"Operation\": \"training\", \"Algorithm\": \"Linear Learner\", \"epoch\": 1}, \"StartTime\": 1557422320.288591}\n",
      "\u001b[0m\n",
      "\u001b[31m#metrics {\"Metrics\": {\"train_binary_classification_cross_entropy_objective\": {\"count\": 1, \"max\": 0.3657555641351744, \"sum\": 0.3657555641351744, \"min\": 0.3657555641351744}}, \"EndTime\": 1557422320.288645, \"Dimensions\": {\"model\": 4, \"Host\": \"algo-1\", \"Operation\": \"training\", \"Algorithm\": \"Linear Learner\", \"epoch\": 1}, \"StartTime\": 1557422320.288636}\n",
      "\u001b[0m\n",
      "\u001b[31m#metrics {\"Metrics\": {\"train_binary_classification_cross_entropy_objective\": {\"count\": 1, \"max\": 0.3655352407056232, \"sum\": 0.3655352407056232, \"min\": 0.3655352407056232}}, \"EndTime\": 1557422320.288673, \"Dimensions\": {\"model\": 5, \"Host\": \"algo-1\", \"Operation\": \"training\", \"Algorithm\": \"Linear Learner\", \"epoch\": 1}, \"StartTime\": 1557422320.288666}\n",
      "\u001b[0m\n",
      "\u001b[31m#metrics {\"Metrics\": {\"train_binary_classification_cross_entropy_objective\": {\"count\": 1, \"max\": 0.3658034935293272, \"sum\": 0.3658034935293272, \"min\": 0.3658034935293272}}, \"EndTime\": 1557422320.288719, \"Dimensions\": {\"model\": 6, \"Host\": \"algo-1\", \"Operation\": \"training\", \"Algorithm\": \"Linear Learner\", \"epoch\": 1}, \"StartTime\": 1557422320.288706}\n",
      "\u001b[0m\n",
      "\u001b[31m#metrics {\"Metrics\": {\"train_binary_classification_cross_entropy_objective\": {\"count\": 1, \"max\": 0.3654124859950339, \"sum\": 0.3654124859950339, \"min\": 0.3654124859950339}}, \"EndTime\": 1557422320.288767, \"Dimensions\": {\"model\": 7, \"Host\": \"algo-1\", \"Operation\": \"training\", \"Algorithm\": \"Linear Learner\", \"epoch\": 1}, \"StartTime\": 1557422320.288754}\n",
      "\u001b[0m\n",
      "\u001b[31m#metrics {\"Metrics\": {\"train_binary_classification_cross_entropy_objective\": {\"count\": 1, \"max\": 0.5002509836596112, \"sum\": 0.5002509836596112, \"min\": 0.5002509836596112}}, \"EndTime\": 1557422320.288826, \"Dimensions\": {\"model\": 8, \"Host\": \"algo-1\", \"Operation\": \"training\", \"Algorithm\": \"Linear Learner\", \"epoch\": 1}, \"StartTime\": 1557422320.28881}\n",
      "\u001b[0m\n",
      "\u001b[31m#metrics {\"Metrics\": {\"train_binary_classification_cross_entropy_objective\": {\"count\": 1, \"max\": 0.49923618216107984, \"sum\": 0.49923618216107984, \"min\": 0.49923618216107984}}, \"EndTime\": 1557422320.288892, \"Dimensions\": {\"model\": 9, \"Host\": \"algo-1\", \"Operation\": \"training\", \"Algorithm\": \"Linear Learner\", \"epoch\": 1}, \"StartTime\": 1557422320.288874}\n",
      "\u001b[0m\n",
      "\u001b[31m#metrics {\"Metrics\": {\"train_binary_classification_cross_entropy_objective\": {\"count\": 1, \"max\": 0.49565218879640566, \"sum\": 0.49565218879640566, \"min\": 0.49565218879640566}}, \"EndTime\": 1557422320.288983, \"Dimensions\": {\"model\": 10, \"Host\": \"algo-1\", \"Operation\": \"training\", \"Algorithm\": \"Linear Learner\", \"epoch\": 1}, \"StartTime\": 1557422320.288965}\n",
      "\u001b[0m\n",
      "\u001b[31m#metrics {\"Metrics\": {\"train_binary_classification_cross_entropy_objective\": {\"count\": 1, \"max\": 0.49100177096581277, \"sum\": 0.49100177096581277, \"min\": 0.49100177096581277}}, \"EndTime\": 1557422320.28905, \"Dimensions\": {\"model\": 11, \"Host\": \"algo-1\", \"Operation\": \"training\", \"Algorithm\": \"Linear Learner\", \"epoch\": 1}, \"StartTime\": 1557422320.289033}\n",
      "\u001b[0m\n",
      "\u001b[31m#metrics {\"Metrics\": {\"train_binary_classification_cross_entropy_objective\": {\"count\": 1, \"max\": 0.41938386145303413, \"sum\": 0.41938386145303413, \"min\": 0.41938386145303413}}, \"EndTime\": 1557422320.289114, \"Dimensions\": {\"model\": 12, \"Host\": \"algo-1\", \"Operation\": \"training\", \"Algorithm\": \"Linear Learner\", \"epoch\": 1}, \"StartTime\": 1557422320.289098}\n",
      "\u001b[0m\n",
      "\u001b[31m#metrics {\"Metrics\": {\"train_binary_classification_cross_entropy_objective\": {\"count\": 1, \"max\": 0.41945942132047903, \"sum\": 0.41945942132047903, \"min\": 0.41945942132047903}}, \"EndTime\": 1557422320.289177, \"Dimensions\": {\"model\": 13, \"Host\": \"algo-1\", \"Operation\": \"training\", \"Algorithm\": \"Linear Learner\", \"epoch\": 1}, \"StartTime\": 1557422320.289161}\n",
      "\u001b[0m\n",
      "\u001b[31m#metrics {\"Metrics\": {\"train_binary_classification_cross_entropy_objective\": {\"count\": 1, \"max\": 0.419383074383403, \"sum\": 0.419383074383403, \"min\": 0.419383074383403}}, \"EndTime\": 1557422320.28925, \"Dimensions\": {\"model\": 14, \"Host\": \"algo-1\", \"Operation\": \"training\", \"Algorithm\": \"Linear Learner\", \"epoch\": 1}, \"StartTime\": 1557422320.289234}\n",
      "\u001b[0m\n",
      "\u001b[31m#metrics {\"Metrics\": {\"train_binary_classification_cross_entropy_objective\": {\"count\": 1, \"max\": 0.41945951074408006, \"sum\": 0.41945951074408006, \"min\": 0.41945951074408006}}, \"EndTime\": 1557422320.289313, \"Dimensions\": {\"model\": 15, \"Host\": \"algo-1\", \"Operation\": \"training\", \"Algorithm\": \"Linear Learner\", \"epoch\": 1}, \"StartTime\": 1557422320.289297}\n",
      "\u001b[0m\n",
      "\u001b[31m#metrics {\"Metrics\": {\"train_binary_classification_cross_entropy_objective\": {\"count\": 1, \"max\": 0.580596469139868, \"sum\": 0.580596469139868, \"min\": 0.580596469139868}}, \"EndTime\": 1557422320.289376, \"Dimensions\": {\"model\": 16, \"Host\": \"algo-1\", \"Operation\": \"training\", \"Algorithm\": \"Linear Learner\", \"epoch\": 1}, \"StartTime\": 1557422320.28936}\n",
      "\u001b[0m\n",
      "\u001b[31m#metrics {\"Metrics\": {\"train_binary_classification_cross_entropy_objective\": {\"count\": 1, \"max\": 0.5805936918036882, \"sum\": 0.5805936918036882, \"min\": 0.5805936918036882}}, \"EndTime\": 1557422320.289438, \"Dimensions\": {\"model\": 17, \"Host\": \"algo-1\", \"Operation\": \"training\", \"Algorithm\": \"Linear Learner\", \"epoch\": 1}, \"StartTime\": 1557422320.289422}\n",
      "\u001b[0m\n",
      "\u001b[31m#metrics {\"Metrics\": {\"train_binary_classification_cross_entropy_objective\": {\"count\": 1, \"max\": 0.5805963447038518, \"sum\": 0.5805963447038518, \"min\": 0.5805963447038518}}, \"EndTime\": 1557422320.2895, \"Dimensions\": {\"model\": 18, \"Host\": \"algo-1\", \"Operation\": \"training\", \"Algorithm\": \"Linear Learner\", \"epoch\": 1}, \"StartTime\": 1557422320.289484}\n",
      "\u001b[0m\n",
      "\u001b[31m#metrics {\"Metrics\": {\"train_binary_classification_cross_entropy_objective\": {\"count\": 1, \"max\": 0.5806029341350231, \"sum\": 0.5806029341350231, \"min\": 0.5806029341350231}}, \"EndTime\": 1557422320.289559, \"Dimensions\": {\"model\": 19, \"Host\": \"algo-1\", \"Operation\": \"training\", \"Algorithm\": \"Linear Learner\", \"epoch\": 1}, \"StartTime\": 1557422320.289545}\n",
      "\u001b[0m\n",
      "\u001b[31m#metrics {\"Metrics\": {\"train_binary_classification_cross_entropy_objective\": {\"count\": 1, \"max\": 0.5817463274815285, \"sum\": 0.5817463274815285, \"min\": 0.5817463274815285}}, \"EndTime\": 1557422320.28962, \"Dimensions\": {\"model\": 20, \"Host\": \"algo-1\", \"Operation\": \"training\", \"Algorithm\": \"Linear Learner\", \"epoch\": 1}, \"StartTime\": 1557422320.289604}\n",
      "\u001b[0m\n",
      "\u001b[31m#metrics {\"Metrics\": {\"train_binary_classification_cross_entropy_objective\": {\"count\": 1, \"max\": 0.5817543614113978, \"sum\": 0.5817543614113978, \"min\": 0.5817543614113978}}, \"EndTime\": 1557422320.289679, \"Dimensions\": {\"model\": 21, \"Host\": \"algo-1\", \"Operation\": \"training\", \"Algorithm\": \"Linear Learner\", \"epoch\": 1}, \"StartTime\": 1557422320.289663}\n",
      "\u001b[0m\n",
      "\u001b[31m#metrics {\"Metrics\": {\"train_binary_classification_cross_entropy_objective\": {\"count\": 1, \"max\": 0.5817229287790697, \"sum\": 0.5817229287790697, \"min\": 0.5817229287790697}}, \"EndTime\": 1557422320.289738, \"Dimensions\": {\"model\": 22, \"Host\": \"algo-1\", \"Operation\": \"training\", \"Algorithm\": \"Linear Learner\", \"epoch\": 1}, \"StartTime\": 1557422320.289722}\n",
      "\u001b[0m\n",
      "\u001b[31m#metrics {\"Metrics\": {\"train_binary_classification_cross_entropy_objective\": {\"count\": 1, \"max\": 0.5817681563029917, \"sum\": 0.5817681563029917, \"min\": 0.5817681563029917}}, \"EndTime\": 1557422320.2898, \"Dimensions\": {\"model\": 23, \"Host\": \"algo-1\", \"Operation\": \"training\", \"Algorithm\": \"Linear Learner\", \"epoch\": 1}, \"StartTime\": 1557422320.289784}\n",
      "\u001b[0m\n",
      "\u001b[31m#metrics {\"Metrics\": {\"train_binary_classification_cross_entropy_objective\": {\"count\": 1, \"max\": 0.5990736377331638, \"sum\": 0.5990736377331638, \"min\": 0.5990736377331638}}, \"EndTime\": 1557422320.289865, \"Dimensions\": {\"model\": 24, \"Host\": \"algo-1\", \"Operation\": \"training\", \"Algorithm\": \"Linear Learner\", \"epoch\": 1}, \"StartTime\": 1557422320.289848}\n",
      "\u001b[0m\n",
      "\u001b[31m#metrics {\"Metrics\": {\"train_binary_classification_cross_entropy_objective\": {\"count\": 1, \"max\": 0.5990814800410308, \"sum\": 0.5990814800410308, \"min\": 0.5990814800410308}}, \"EndTime\": 1557422320.289927, \"Dimensions\": {\"model\": 25, \"Host\": \"algo-1\", \"Operation\": \"training\", \"Algorithm\": \"Linear Learner\", \"epoch\": 1}, \"StartTime\": 1557422320.289911}\n",
      "\u001b[0m\n",
      "\u001b[31m#metrics {\"Metrics\": {\"train_binary_classification_cross_entropy_objective\": {\"count\": 1, \"max\": 0.5990737848799358, \"sum\": 0.5990737848799358, \"min\": 0.5990737848799358}}, \"EndTime\": 1557422320.289989, \"Dimensions\": {\"model\": 26, \"Host\": \"algo-1\", \"Operation\": \"training\", \"Algorithm\": \"Linear Learner\", \"epoch\": 1}, \"StartTime\": 1557422320.289973}\n",
      "\u001b[0m\n",
      "\u001b[31m#metrics {\"Metrics\": {\"train_binary_classification_cross_entropy_objective\": {\"count\": 1, \"max\": 0.5990822503141655, \"sum\": 0.5990822503141655, \"min\": 0.5990822503141655}}, \"EndTime\": 1557422320.290053, \"Dimensions\": {\"model\": 27, \"Host\": \"algo-1\", \"Operation\": \"training\", \"Algorithm\": \"Linear Learner\", \"epoch\": 1}, \"StartTime\": 1557422320.290036}\n",
      "\u001b[0m\n",
      "\u001b[31m#metrics {\"Metrics\": {\"train_binary_classification_cross_entropy_objective\": {\"count\": 1, \"max\": 0.6002726960884508, \"sum\": 0.6002726960884508, \"min\": 0.6002726960884508}}, \"EndTime\": 1557422320.290109, \"Dimensions\": {\"model\": 28, \"Host\": \"algo-1\", \"Operation\": \"training\", \"Algorithm\": \"Linear Learner\", \"epoch\": 1}, \"StartTime\": 1557422320.290094}\n",
      "\u001b[0m\n",
      "\u001b[31m#metrics {\"Metrics\": {\"train_binary_classification_cross_entropy_objective\": {\"count\": 1, \"max\": 0.6003360321281492, \"sum\": 0.6003360321281492, \"min\": 0.6003360321281492}}, \"EndTime\": 1557422320.290164, \"Dimensions\": {\"model\": 29, \"Host\": \"algo-1\", \"Operation\": \"training\", \"Algorithm\": \"Linear Learner\", \"epoch\": 1}, \"StartTime\": 1557422320.290148}\n",
      "\u001b[0m\n",
      "\u001b[31m#metrics {\"Metrics\": {\"train_binary_classification_cross_entropy_objective\": {\"count\": 1, \"max\": 0.6002740156779918, \"sum\": 0.6002740156779918, \"min\": 0.6002740156779918}}, \"EndTime\": 1557422320.290219, \"Dimensions\": {\"model\": 30, \"Host\": \"algo-1\", \"Operation\": \"training\", \"Algorithm\": \"Linear Learner\", \"epoch\": 1}, \"StartTime\": 1557422320.290204}\n",
      "\u001b[0m\n",
      "\u001b[31m#metrics {\"Metrics\": {\"train_binary_classification_cross_entropy_objective\": {\"count\": 1, \"max\": 0.6003359223594962, \"sum\": 0.6003359223594962, \"min\": 0.6003359223594962}}, \"EndTime\": 1557422320.290268, \"Dimensions\": {\"model\": 31, \"Host\": \"algo-1\", \"Operation\": \"training\", \"Algorithm\": \"Linear Learner\", \"epoch\": 1}, \"StartTime\": 1557422320.290253}\n",
      "\u001b[0m\n",
      "\u001b[31m[05/09/2019 17:18:40 INFO 140071535105856] #quality_metric: host=algo-1, epoch=1, train binary_classification_cross_entropy_objective <loss>=0.495210023392\u001b[0m\n",
      "\u001b[31m[05/09/2019 17:18:40 INFO 140071535105856] #early_stopping_criteria_metric: host=algo-1, epoch=1, criteria=binary_classification_cross_entropy_objective, value=0.365412485995\u001b[0m\n",
      "\u001b[31m[05/09/2019 17:18:40 INFO 140071535105856] Epoch 1: Loss improved. Updating best model\u001b[0m\n",
      "\u001b[31m[05/09/2019 17:18:40 INFO 140071535105856] #progress_metric: host=algo-1, completed 13 % of epochs\u001b[0m\n",
      "\u001b[31m#metrics {\"Metrics\": {\"Max Batches Seen Between Resets\": {\"count\": 1, \"max\": 130, \"sum\": 130.0, \"min\": 130}, \"Number of Batches Since Last Reset\": {\"count\": 1, \"max\": 130, \"sum\": 130.0, \"min\": 130}, \"Number of Records Since Last Reset\": {\"count\": 1, \"max\": 129447, \"sum\": 129447.0, \"min\": 129447}, \"Total Batches Seen\": {\"count\": 1, \"max\": 272, \"sum\": 272.0, \"min\": 272}, \"Total Records Seen\": {\"count\": 1, \"max\": 270894, \"sum\": 270894.0, \"min\": 270894}, \"Max Records Seen Between Resets\": {\"count\": 1, \"max\": 129447, \"sum\": 129447.0, \"min\": 129447}, \"Reset Count\": {\"count\": 1, \"max\": 4, \"sum\": 4.0, \"min\": 4}}, \"EndTime\": 1557422320.292904, \"Dimensions\": {\"Host\": \"algo-1\", \"Meta\": \"training_data_iter\", \"Operation\": \"training\", \"Algorithm\": \"Linear Learner\", \"epoch\": 1}, \"StartTime\": 1557422316.348615}\n",
      "\u001b[0m\n",
      "\u001b[31m[05/09/2019 17:18:40 INFO 140071535105856] #throughput_metric: host=algo-1, train throughput=32817.6625834 records/second\u001b[0m\n",
      "\u001b[31m[2019-05-09 17:18:40.293] [tensorio] [info] data_pipeline_stats={\"name\": \"/opt/ml/input/data/train\", \"epoch\": 3, \"duration\": 3944, \"num_examples\": 130}\u001b[0m\n"
     ]
    },
    {
     "name": "stdout",
     "output_type": "stream",
     "text": [
      "\u001b[31m#metrics {\"Metrics\": {\"train_binary_classification_cross_entropy_objective\": {\"count\": 1, \"max\": 0.4663872077409611, \"sum\": 0.4663872077409611, \"min\": 0.4663872077409611}}, \"EndTime\": 1557422324.549129, \"Dimensions\": {\"model\": 0, \"Host\": \"algo-1\", \"Operation\": \"training\", \"Algorithm\": \"Linear Learner\", \"epoch\": 2}, \"StartTime\": 1557422324.549044}\n",
      "\u001b[0m\n",
      "\u001b[31m#metrics {\"Metrics\": {\"train_binary_classification_cross_entropy_objective\": {\"count\": 1, \"max\": 0.4576048347414002, \"sum\": 0.4576048347414002, \"min\": 0.4576048347414002}}, \"EndTime\": 1557422324.549221, \"Dimensions\": {\"model\": 1, \"Host\": \"algo-1\", \"Operation\": \"training\", \"Algorithm\": \"Linear Learner\", \"epoch\": 2}, \"StartTime\": 1557422324.549206}\n",
      "\u001b[0m\n",
      "\u001b[31m#metrics {\"Metrics\": {\"train_binary_classification_cross_entropy_objective\": {\"count\": 1, \"max\": 0.4693714185611222, \"sum\": 0.4693714185611222, \"min\": 0.4693714185611222}}, \"EndTime\": 1557422324.549267, \"Dimensions\": {\"model\": 2, \"Host\": \"algo-1\", \"Operation\": \"training\", \"Algorithm\": \"Linear Learner\", \"epoch\": 2}, \"StartTime\": 1557422324.549256}\n",
      "\u001b[0m\n",
      "\u001b[31m#metrics {\"Metrics\": {\"train_binary_classification_cross_entropy_objective\": {\"count\": 1, \"max\": 0.45662451455759445, \"sum\": 0.45662451455759445, \"min\": 0.45662451455759445}}, \"EndTime\": 1557422324.549314, \"Dimensions\": {\"model\": 3, \"Host\": \"algo-1\", \"Operation\": \"training\", \"Algorithm\": \"Linear Learner\", \"epoch\": 2}, \"StartTime\": 1557422324.549303}\n",
      "\u001b[0m\n",
      "\u001b[31m#metrics {\"Metrics\": {\"train_binary_classification_cross_entropy_objective\": {\"count\": 1, \"max\": 0.36491750388921695, \"sum\": 0.36491750388921695, \"min\": 0.36491750388921695}}, \"EndTime\": 1557422324.549361, \"Dimensions\": {\"model\": 4, \"Host\": \"algo-1\", \"Operation\": \"training\", \"Algorithm\": \"Linear Learner\", \"epoch\": 2}, \"StartTime\": 1557422324.54935}\n",
      "\u001b[0m\n",
      "\u001b[31m#metrics {\"Metrics\": {\"train_binary_classification_cross_entropy_objective\": {\"count\": 1, \"max\": 0.3650253965392593, \"sum\": 0.3650253965392593, \"min\": 0.3650253965392593}}, \"EndTime\": 1557422324.5494, \"Dimensions\": {\"model\": 5, \"Host\": \"algo-1\", \"Operation\": \"training\", \"Algorithm\": \"Linear Learner\", \"epoch\": 2}, \"StartTime\": 1557422324.549391}\n",
      "\u001b[0m\n",
      "\u001b[31m#metrics {\"Metrics\": {\"train_binary_classification_cross_entropy_objective\": {\"count\": 1, \"max\": 0.36491899499227837, \"sum\": 0.36491899499227837, \"min\": 0.36491899499227837}}, \"EndTime\": 1557422324.549438, \"Dimensions\": {\"model\": 6, \"Host\": \"algo-1\", \"Operation\": \"training\", \"Algorithm\": \"Linear Learner\", \"epoch\": 2}, \"StartTime\": 1557422324.549428}\n",
      "\u001b[0m\n",
      "\u001b[31m#metrics {\"Metrics\": {\"train_binary_classification_cross_entropy_objective\": {\"count\": 1, \"max\": 0.36502227262748305, \"sum\": 0.36502227262748305, \"min\": 0.36502227262748305}}, \"EndTime\": 1557422324.549475, \"Dimensions\": {\"model\": 7, \"Host\": \"algo-1\", \"Operation\": \"training\", \"Algorithm\": \"Linear Learner\", \"epoch\": 2}, \"StartTime\": 1557422324.549465}\n",
      "\u001b[0m\n",
      "\u001b[31m#metrics {\"Metrics\": {\"train_binary_classification_cross_entropy_objective\": {\"count\": 1, \"max\": 0.47409792475737345, \"sum\": 0.47409792475737345, \"min\": 0.47409792475737345}}, \"EndTime\": 1557422324.549512, \"Dimensions\": {\"model\": 8, \"Host\": \"algo-1\", \"Operation\": \"training\", \"Algorithm\": \"Linear Learner\", \"epoch\": 2}, \"StartTime\": 1557422324.549502}\n",
      "\u001b[0m\n",
      "\u001b[31m#metrics {\"Metrics\": {\"train_binary_classification_cross_entropy_objective\": {\"count\": 1, \"max\": 0.4693581789001938, \"sum\": 0.4693581789001938, \"min\": 0.4693581789001938}}, \"EndTime\": 1557422324.549549, \"Dimensions\": {\"model\": 9, \"Host\": \"algo-1\", \"Operation\": \"training\", \"Algorithm\": \"Linear Learner\", \"epoch\": 2}, \"StartTime\": 1557422324.54954}\n",
      "\u001b[0m\n",
      "\u001b[31m#metrics {\"Metrics\": {\"train_binary_classification_cross_entropy_objective\": {\"count\": 1, \"max\": 0.47016014252891836, \"sum\": 0.47016014252891836, \"min\": 0.47016014252891836}}, \"EndTime\": 1557422324.549586, \"Dimensions\": {\"model\": 10, \"Host\": \"algo-1\", \"Operation\": \"training\", \"Algorithm\": \"Linear Learner\", \"epoch\": 2}, \"StartTime\": 1557422324.549576}\n",
      "\u001b[0m\n",
      "\u001b[31m#metrics {\"Metrics\": {\"train_binary_classification_cross_entropy_objective\": {\"count\": 1, \"max\": 0.4629505054562591, \"sum\": 0.4629505054562591, \"min\": 0.4629505054562591}}, \"EndTime\": 1557422324.549623, \"Dimensions\": {\"model\": 11, \"Host\": \"algo-1\", \"Operation\": \"training\", \"Algorithm\": \"Linear Learner\", \"epoch\": 2}, \"StartTime\": 1557422324.549613}\n",
      "\u001b[0m\n",
      "\u001b[31m#metrics {\"Metrics\": {\"train_binary_classification_cross_entropy_objective\": {\"count\": 1, \"max\": 0.41937445612471236, \"sum\": 0.41937445612471236, \"min\": 0.41937445612471236}}, \"EndTime\": 1557422324.549659, \"Dimensions\": {\"model\": 12, \"Host\": \"algo-1\", \"Operation\": \"training\", \"Algorithm\": \"Linear Learner\", \"epoch\": 2}, \"StartTime\": 1557422324.54965}\n",
      "\u001b[0m\n",
      "\u001b[31m#metrics {\"Metrics\": {\"train_binary_classification_cross_entropy_objective\": {\"count\": 1, \"max\": 0.41974797779645107, \"sum\": 0.41974797779645107, \"min\": 0.41974797779645107}}, \"EndTime\": 1557422324.549695, \"Dimensions\": {\"model\": 13, \"Host\": \"algo-1\", \"Operation\": \"training\", \"Algorithm\": \"Linear Learner\", \"epoch\": 2}, \"StartTime\": 1557422324.549686}\n",
      "\u001b[0m\n",
      "\u001b[31m#metrics {\"Metrics\": {\"train_binary_classification_cross_entropy_objective\": {\"count\": 1, \"max\": 0.41937525005488435, \"sum\": 0.41937525005488435, \"min\": 0.41937525005488435}}, \"EndTime\": 1557422324.549732, \"Dimensions\": {\"model\": 14, \"Host\": \"algo-1\", \"Operation\": \"training\", \"Algorithm\": \"Linear Learner\", \"epoch\": 2}, \"StartTime\": 1557422324.549722}\n",
      "\u001b[0m\n",
      "\u001b[31m#metrics {\"Metrics\": {\"train_binary_classification_cross_entropy_objective\": {\"count\": 1, \"max\": 0.4197479579245397, \"sum\": 0.4197479579245397, \"min\": 0.4197479579245397}}, \"EndTime\": 1557422324.549768, \"Dimensions\": {\"model\": 15, \"Host\": \"algo-1\", \"Operation\": \"training\", \"Algorithm\": \"Linear Learner\", \"epoch\": 2}, \"StartTime\": 1557422324.549758}\n",
      "\u001b[0m\n",
      "\u001b[31m#metrics {\"Metrics\": {\"train_binary_classification_cross_entropy_objective\": {\"count\": 1, \"max\": 0.5806024392298026, \"sum\": 0.5806024392298026, \"min\": 0.5806024392298026}}, \"EndTime\": 1557422324.549814, \"Dimensions\": {\"model\": 16, \"Host\": \"algo-1\", \"Operation\": \"training\", \"Algorithm\": \"Linear Learner\", \"epoch\": 2}, \"StartTime\": 1557422324.549795}\n",
      "\u001b[0m\n",
      "\u001b[31m#metrics {\"Metrics\": {\"train_binary_classification_cross_entropy_objective\": {\"count\": 1, \"max\": 0.580615543809048, \"sum\": 0.580615543809048, \"min\": 0.580615543809048}}, \"EndTime\": 1557422324.54985, \"Dimensions\": {\"model\": 17, \"Host\": \"algo-1\", \"Operation\": \"training\", \"Algorithm\": \"Linear Learner\", \"epoch\": 2}, \"StartTime\": 1557422324.549841}\n",
      "\u001b[0m\n",
      "\u001b[31m#metrics {\"Metrics\": {\"train_binary_classification_cross_entropy_objective\": {\"count\": 1, \"max\": 0.5806026554551236, \"sum\": 0.5806026554551236, \"min\": 0.5806026554551236}}, \"EndTime\": 1557422324.549885, \"Dimensions\": {\"model\": 18, \"Host\": \"algo-1\", \"Operation\": \"training\", \"Algorithm\": \"Linear Learner\", \"epoch\": 2}, \"StartTime\": 1557422324.549876}\n",
      "\u001b[0m\n",
      "\u001b[31m#metrics {\"Metrics\": {\"train_binary_classification_cross_entropy_objective\": {\"count\": 1, \"max\": 0.580618713852047, \"sum\": 0.580618713852047, \"min\": 0.580618713852047}}, \"EndTime\": 1557422324.54992, \"Dimensions\": {\"model\": 19, \"Host\": \"algo-1\", \"Operation\": \"training\", \"Algorithm\": \"Linear Learner\", \"epoch\": 2}, \"StartTime\": 1557422324.549911}\n",
      "\u001b[0m\n",
      "\u001b[31m#metrics {\"Metrics\": {\"train_binary_classification_cross_entropy_objective\": {\"count\": 1, \"max\": 0.581756593689438, \"sum\": 0.581756593689438, \"min\": 0.581756593689438}}, \"EndTime\": 1557422324.549955, \"Dimensions\": {\"model\": 20, \"Host\": \"algo-1\", \"Operation\": \"training\", \"Algorithm\": \"Linear Learner\", \"epoch\": 2}, \"StartTime\": 1557422324.549946}\n",
      "\u001b[0m\n",
      "\u001b[31m#metrics {\"Metrics\": {\"train_binary_classification_cross_entropy_objective\": {\"count\": 1, \"max\": 0.5819018417476683, \"sum\": 0.5819018417476683, \"min\": 0.5819018417476683}}, \"EndTime\": 1557422324.54999, \"Dimensions\": {\"model\": 21, \"Host\": \"algo-1\", \"Operation\": \"training\", \"Algorithm\": \"Linear Learner\", \"epoch\": 2}, \"StartTime\": 1557422324.549981}\n",
      "\u001b[0m\n",
      "\u001b[31m#metrics {\"Metrics\": {\"train_binary_classification_cross_entropy_objective\": {\"count\": 1, \"max\": 0.5817561683359073, \"sum\": 0.5817561683359073, \"min\": 0.5817561683359073}}, \"EndTime\": 1557422324.550025, \"Dimensions\": {\"model\": 22, \"Host\": \"algo-1\", \"Operation\": \"training\", \"Algorithm\": \"Linear Learner\", \"epoch\": 2}, \"StartTime\": 1557422324.550016}\n",
      "\u001b[0m\n",
      "\u001b[31m#metrics {\"Metrics\": {\"train_binary_classification_cross_entropy_objective\": {\"count\": 1, \"max\": 0.5819084799123365, \"sum\": 0.5819084799123365, \"min\": 0.5819084799123365}}, \"EndTime\": 1557422324.55006, \"Dimensions\": {\"model\": 23, \"Host\": \"algo-1\", \"Operation\": \"training\", \"Algorithm\": \"Linear Learner\", \"epoch\": 2}, \"StartTime\": 1557422324.550051}\n",
      "\u001b[0m\n",
      "\u001b[31m#metrics {\"Metrics\": {\"train_binary_classification_cross_entropy_objective\": {\"count\": 1, \"max\": 0.5990793286700581, \"sum\": 0.5990793286700581, \"min\": 0.5990793286700581}}, \"EndTime\": 1557422324.550094, \"Dimensions\": {\"model\": 24, \"Host\": \"algo-1\", \"Operation\": \"training\", \"Algorithm\": \"Linear Learner\", \"epoch\": 2}, \"StartTime\": 1557422324.550086}\n",
      "\u001b[0m\n",
      "\u001b[31m#metrics {\"Metrics\": {\"train_binary_classification_cross_entropy_objective\": {\"count\": 1, \"max\": 0.5990986829654191, \"sum\": 0.5990986829654191, \"min\": 0.5990986829654191}}, \"EndTime\": 1557422324.550133, \"Dimensions\": {\"model\": 25, \"Host\": \"algo-1\", \"Operation\": \"training\", \"Algorithm\": \"Linear Learner\", \"epoch\": 2}, \"StartTime\": 1557422324.550123}\n",
      "\u001b[0m\n",
      "\u001b[31m#metrics {\"Metrics\": {\"train_binary_classification_cross_entropy_objective\": {\"count\": 1, \"max\": 0.5990801046208818, \"sum\": 0.5990801046208818, \"min\": 0.5990801046208818}}, \"EndTime\": 1557422324.55017, \"Dimensions\": {\"model\": 26, \"Host\": \"algo-1\", \"Operation\": \"training\", \"Algorithm\": \"Linear Learner\", \"epoch\": 2}, \"StartTime\": 1557422324.550161}\n",
      "\u001b[0m\n",
      "\u001b[31m#metrics {\"Metrics\": {\"train_binary_classification_cross_entropy_objective\": {\"count\": 1, \"max\": 0.5990986124674479, \"sum\": 0.5990986124674479, \"min\": 0.5990986124674479}}, \"EndTime\": 1557422324.550213, \"Dimensions\": {\"model\": 27, \"Host\": \"algo-1\", \"Operation\": \"training\", \"Algorithm\": \"Linear Learner\", \"epoch\": 2}, \"StartTime\": 1557422324.550203}\n",
      "\u001b[0m\n",
      "\u001b[31m#metrics {\"Metrics\": {\"train_binary_classification_cross_entropy_objective\": {\"count\": 1, \"max\": 0.6002912763255511, \"sum\": 0.6002912763255511, \"min\": 0.6002912763255511}}, \"EndTime\": 1557422324.550251, \"Dimensions\": {\"model\": 28, \"Host\": \"algo-1\", \"Operation\": \"training\", \"Algorithm\": \"Linear Learner\", \"epoch\": 2}, \"StartTime\": 1557422324.550242}\n",
      "\u001b[0m\n",
      "\u001b[31m#metrics {\"Metrics\": {\"train_binary_classification_cross_entropy_objective\": {\"count\": 1, \"max\": 0.6005332783543786, \"sum\": 0.6005332783543786, \"min\": 0.6005332783543786}}, \"EndTime\": 1557422324.550288, \"Dimensions\": {\"model\": 29, \"Host\": \"algo-1\", \"Operation\": \"training\", \"Algorithm\": \"Linear Learner\", \"epoch\": 2}, \"StartTime\": 1557422324.550278}\n",
      "\u001b[0m\n",
      "\u001b[31m#metrics {\"Metrics\": {\"train_binary_classification_cross_entropy_objective\": {\"count\": 1, \"max\": 0.6002904194676599, \"sum\": 0.6002904194676599, \"min\": 0.6002904194676599}}, \"EndTime\": 1557422324.55033, \"Dimensions\": {\"model\": 30, \"Host\": \"algo-1\", \"Operation\": \"training\", \"Algorithm\": \"Linear Learner\", \"epoch\": 2}, \"StartTime\": 1557422324.55032}\n",
      "\u001b[0m\n",
      "\u001b[31m#metrics {\"Metrics\": {\"train_binary_classification_cross_entropy_objective\": {\"count\": 1, \"max\": 0.6005321319343507, \"sum\": 0.6005321319343507, \"min\": 0.6005321319343507}}, \"EndTime\": 1557422324.550369, \"Dimensions\": {\"model\": 31, \"Host\": \"algo-1\", \"Operation\": \"training\", \"Algorithm\": \"Linear Learner\", \"epoch\": 2}, \"StartTime\": 1557422324.550359}\n",
      "\u001b[0m\n",
      "\u001b[31m[05/09/2019 17:18:44 INFO 140071535105856] #quality_metric: host=algo-1, epoch=2, train binary_classification_cross_entropy_objective <loss>=0.466387207741\u001b[0m\n",
      "\u001b[31m[05/09/2019 17:18:44 INFO 140071535105856] #early_stopping_criteria_metric: host=algo-1, epoch=2, criteria=binary_classification_cross_entropy_objective, value=0.364917503889\u001b[0m\n",
      "\u001b[31m[05/09/2019 17:18:44 INFO 140071535105856] Epoch 2: Loss improved. Updating best model\u001b[0m\n",
      "\u001b[31m[05/09/2019 17:18:44 INFO 140071535105856] #progress_metric: host=algo-1, completed 20 % of epochs\u001b[0m\n",
      "\u001b[31m#metrics {\"Metrics\": {\"Max Batches Seen Between Resets\": {\"count\": 1, \"max\": 130, \"sum\": 130.0, \"min\": 130}, \"Number of Batches Since Last Reset\": {\"count\": 1, \"max\": 130, \"sum\": 130.0, \"min\": 130}, \"Number of Records Since Last Reset\": {\"count\": 1, \"max\": 129447, \"sum\": 129447.0, \"min\": 129447}, \"Total Batches Seen\": {\"count\": 1, \"max\": 402, \"sum\": 402.0, \"min\": 402}, \"Total Records Seen\": {\"count\": 1, \"max\": 400341, \"sum\": 400341.0, \"min\": 400341}, \"Max Records Seen Between Resets\": {\"count\": 1, \"max\": 129447, \"sum\": 129447.0, \"min\": 129447}, \"Reset Count\": {\"count\": 1, \"max\": 5, \"sum\": 5.0, \"min\": 5}}, \"EndTime\": 1557422324.553084, \"Dimensions\": {\"Host\": \"algo-1\", \"Meta\": \"training_data_iter\", \"Operation\": \"training\", \"Algorithm\": \"Linear Learner\", \"epoch\": 2}, \"StartTime\": 1557422320.293202}\n",
      "\u001b[0m\n",
      "\u001b[31m[05/09/2019 17:18:44 INFO 140071535105856] #throughput_metric: host=algo-1, train throughput=30386.5058438 records/second\u001b[0m\n",
      "\u001b[31m[2019-05-09 17:18:44.553] [tensorio] [info] data_pipeline_stats={\"name\": \"/opt/ml/input/data/train\", \"epoch\": 4, \"duration\": 4259, \"num_examples\": 130}\u001b[0m\n",
      "\u001b[31m#metrics {\"Metrics\": {\"train_binary_classification_cross_entropy_objective\": {\"count\": 1, \"max\": 0.4477696533203125, \"sum\": 0.4477696533203125, \"min\": 0.4477696533203125}}, \"EndTime\": 1557422328.627924, \"Dimensions\": {\"model\": 0, \"Host\": \"algo-1\", \"Operation\": \"training\", \"Algorithm\": \"Linear Learner\", \"epoch\": 3}, \"StartTime\": 1557422328.627861}\n",
      "\u001b[0m\n",
      "\u001b[31m#metrics {\"Metrics\": {\"train_binary_classification_cross_entropy_objective\": {\"count\": 1, \"max\": 0.43588163343326064, \"sum\": 0.43588163343326064, \"min\": 0.43588163343326064}}, \"EndTime\": 1557422328.628011, \"Dimensions\": {\"model\": 1, \"Host\": \"algo-1\", \"Operation\": \"training\", \"Algorithm\": \"Linear Learner\", \"epoch\": 3}, \"StartTime\": 1557422328.627993}\n",
      "\u001b[0m\n",
      "\u001b[31m#metrics {\"Metrics\": {\"train_binary_classification_cross_entropy_objective\": {\"count\": 1, \"max\": 0.45038483967152676, \"sum\": 0.45038483967152676, \"min\": 0.45038483967152676}}, \"EndTime\": 1557422328.628069, \"Dimensions\": {\"model\": 2, \"Host\": \"algo-1\", \"Operation\": \"training\", \"Algorithm\": \"Linear Learner\", \"epoch\": 3}, \"StartTime\": 1557422328.628054}\n",
      "\u001b[0m\n",
      "\u001b[31m#metrics {\"Metrics\": {\"train_binary_classification_cross_entropy_objective\": {\"count\": 1, \"max\": 0.4350685621158097, \"sum\": 0.4350685621158097, \"min\": 0.4350685621158097}}, \"EndTime\": 1557422328.628134, \"Dimensions\": {\"model\": 3, \"Host\": \"algo-1\", \"Operation\": \"training\", \"Algorithm\": \"Linear Learner\", \"epoch\": 3}, \"StartTime\": 1557422328.628117}\n",
      "\u001b[0m\n",
      "\u001b[31m#metrics {\"Metrics\": {\"train_binary_classification_cross_entropy_objective\": {\"count\": 1, \"max\": 0.36490250225214993, \"sum\": 0.36490250225214993, \"min\": 0.36490250225214993}}, \"EndTime\": 1557422328.628192, \"Dimensions\": {\"model\": 4, \"Host\": \"algo-1\", \"Operation\": \"training\", \"Algorithm\": \"Linear Learner\", \"epoch\": 3}, \"StartTime\": 1557422328.628177}\n",
      "\u001b[0m\n",
      "\u001b[31m#metrics {\"Metrics\": {\"train_binary_classification_cross_entropy_objective\": {\"count\": 1, \"max\": 0.36519389473375424, \"sum\": 0.36519389473375424, \"min\": 0.36519389473375424}}, \"EndTime\": 1557422328.628243, \"Dimensions\": {\"model\": 5, \"Host\": \"algo-1\", \"Operation\": \"training\", \"Algorithm\": \"Linear Learner\", \"epoch\": 3}, \"StartTime\": 1557422328.628228}\n",
      "\u001b[0m\n",
      "\u001b[31m#metrics {\"Metrics\": {\"train_binary_classification_cross_entropy_objective\": {\"count\": 1, \"max\": 0.364898348076399, \"sum\": 0.364898348076399, \"min\": 0.364898348076399}}, \"EndTime\": 1557422328.628293, \"Dimensions\": {\"model\": 6, \"Host\": \"algo-1\", \"Operation\": \"training\", \"Algorithm\": \"Linear Learner\", \"epoch\": 3}, \"StartTime\": 1557422328.628279}\n",
      "\u001b[0m\n",
      "\u001b[31m#metrics {\"Metrics\": {\"train_binary_classification_cross_entropy_objective\": {\"count\": 1, \"max\": 0.3652059685758842, \"sum\": 0.3652059685758842, \"min\": 0.3652059685758842}}, \"EndTime\": 1557422328.628346, \"Dimensions\": {\"model\": 7, \"Host\": \"algo-1\", \"Operation\": \"training\", \"Algorithm\": \"Linear Learner\", \"epoch\": 3}, \"StartTime\": 1557422328.628332}\n",
      "\u001b[0m\n",
      "\u001b[31m#metrics {\"Metrics\": {\"train_binary_classification_cross_entropy_objective\": {\"count\": 1, \"max\": 0.45830341427825216, \"sum\": 0.45830341427825216, \"min\": 0.45830341427825216}}, \"EndTime\": 1557422328.628402, \"Dimensions\": {\"model\": 8, \"Host\": \"algo-1\", \"Operation\": \"training\", \"Algorithm\": \"Linear Learner\", \"epoch\": 3}, \"StartTime\": 1557422328.628386}\n",
      "\u001b[0m\n",
      "\u001b[31m#metrics {\"Metrics\": {\"train_binary_classification_cross_entropy_objective\": {\"count\": 1, \"max\": 0.45110167794634204, \"sum\": 0.45110167794634204, \"min\": 0.45110167794634204}}, \"EndTime\": 1557422328.628457, \"Dimensions\": {\"model\": 9, \"Host\": \"algo-1\", \"Operation\": \"training\", \"Algorithm\": \"Linear Learner\", \"epoch\": 3}, \"StartTime\": 1557422328.628441}\n",
      "\u001b[0m\n",
      "\u001b[31m#metrics {\"Metrics\": {\"train_binary_classification_cross_entropy_objective\": {\"count\": 1, \"max\": 0.45492418510969296, \"sum\": 0.45492418510969296, \"min\": 0.45492418510969296}}, \"EndTime\": 1557422328.628514, \"Dimensions\": {\"model\": 10, \"Host\": \"algo-1\", \"Operation\": \"training\", \"Algorithm\": \"Linear Learner\", \"epoch\": 3}, \"StartTime\": 1557422328.628498}\n",
      "\u001b[0m\n",
      "\u001b[31m#metrics {\"Metrics\": {\"train_binary_classification_cross_entropy_objective\": {\"count\": 1, \"max\": 0.44615556915046634, \"sum\": 0.44615556915046634, \"min\": 0.44615556915046634}}, \"EndTime\": 1557422328.62857, \"Dimensions\": {\"model\": 11, \"Host\": \"algo-1\", \"Operation\": \"training\", \"Algorithm\": \"Linear Learner\", \"epoch\": 3}, \"StartTime\": 1557422328.628555}\n",
      "\u001b[0m\n",
      "\u001b[31m#metrics {\"Metrics\": {\"train_binary_classification_cross_entropy_objective\": {\"count\": 1, \"max\": 0.41934850056966144, \"sum\": 0.41934850056966144, \"min\": 0.41934850056966144}}, \"EndTime\": 1557422328.628624, \"Dimensions\": {\"model\": 12, \"Host\": \"algo-1\", \"Operation\": \"training\", \"Algorithm\": \"Linear Learner\", \"epoch\": 3}, \"StartTime\": 1557422328.628609}\n",
      "\u001b[0m\n",
      "\u001b[31m#metrics {\"Metrics\": {\"train_binary_classification_cross_entropy_objective\": {\"count\": 1, \"max\": 0.41983593773657035, \"sum\": 0.41983593773657035, \"min\": 0.41983593773657035}}, \"EndTime\": 1557422328.628689, \"Dimensions\": {\"model\": 13, \"Host\": \"algo-1\", \"Operation\": \"training\", \"Algorithm\": \"Linear Learner\", \"epoch\": 3}, \"StartTime\": 1557422328.628674}\n",
      "\u001b[0m\n",
      "\u001b[31m#metrics {\"Metrics\": {\"train_binary_classification_cross_entropy_objective\": {\"count\": 1, \"max\": 0.41934702744594843, \"sum\": 0.41934702744594843, \"min\": 0.41934702744594843}}, \"EndTime\": 1557422328.62874, \"Dimensions\": {\"model\": 14, \"Host\": \"algo-1\", \"Operation\": \"training\", \"Algorithm\": \"Linear Learner\", \"epoch\": 3}, \"StartTime\": 1557422328.628726}\n",
      "\u001b[0m\n",
      "\u001b[31m#metrics {\"Metrics\": {\"train_binary_classification_cross_entropy_objective\": {\"count\": 1, \"max\": 0.41983619441542513, \"sum\": 0.41983619441542513, \"min\": 0.41983619441542513}}, \"EndTime\": 1557422328.628793, \"Dimensions\": {\"model\": 15, \"Host\": \"algo-1\", \"Operation\": \"training\", \"Algorithm\": \"Linear Learner\", \"epoch\": 3}, \"StartTime\": 1557422328.628777}\n",
      "\u001b[0m\n",
      "\u001b[31m#metrics {\"Metrics\": {\"train_binary_classification_cross_entropy_objective\": {\"count\": 1, \"max\": 0.5806022599094598, \"sum\": 0.5806022599094598, \"min\": 0.5806022599094598}}, \"EndTime\": 1557422328.628847, \"Dimensions\": {\"model\": 16, \"Host\": \"algo-1\", \"Operation\": \"training\", \"Algorithm\": \"Linear Learner\", \"epoch\": 3}, \"StartTime\": 1557422328.628832}\n",
      "\u001b[0m\n",
      "\u001b[31m#metrics {\"Metrics\": {\"train_binary_classification_cross_entropy_objective\": {\"count\": 1, \"max\": 0.5806304732921511, \"sum\": 0.5806304732921511, \"min\": 0.5806304732921511}}, \"EndTime\": 1557422328.6289, \"Dimensions\": {\"model\": 17, \"Host\": \"algo-1\", \"Operation\": \"training\", \"Algorithm\": \"Linear Learner\", \"epoch\": 3}, \"StartTime\": 1557422328.628885}\n",
      "\u001b[0m\n",
      "\u001b[31m#metrics {\"Metrics\": {\"train_binary_classification_cross_entropy_objective\": {\"count\": 1, \"max\": 0.5806023403433866, \"sum\": 0.5806023403433866, \"min\": 0.5806023403433866}}, \"EndTime\": 1557422328.628978, \"Dimensions\": {\"model\": 18, \"Host\": \"algo-1\", \"Operation\": \"training\", \"Algorithm\": \"Linear Learner\", \"epoch\": 3}, \"StartTime\": 1557422328.628961}\n",
      "\u001b[0m\n",
      "\u001b[31m#metrics {\"Metrics\": {\"train_binary_classification_cross_entropy_objective\": {\"count\": 1, \"max\": 0.580630303907764, \"sum\": 0.580630303907764, \"min\": 0.580630303907764}}, \"EndTime\": 1557422328.629032, \"Dimensions\": {\"model\": 19, \"Host\": \"algo-1\", \"Operation\": \"training\", \"Algorithm\": \"Linear Learner\", \"epoch\": 3}, \"StartTime\": 1557422328.629017}\n",
      "\u001b[0m\n",
      "\u001b[31m#metrics {\"Metrics\": {\"train_binary_classification_cross_entropy_objective\": {\"count\": 1, \"max\": 0.5817970973761507, \"sum\": 0.5817970973761507, \"min\": 0.5817970973761507}}, \"EndTime\": 1557422328.629084, \"Dimensions\": {\"model\": 20, \"Host\": \"algo-1\", \"Operation\": \"training\", \"Algorithm\": \"Linear Learner\", \"epoch\": 3}, \"StartTime\": 1557422328.62907}\n",
      "\u001b[0m\n",
      "\u001b[31m#metrics {\"Metrics\": {\"train_binary_classification_cross_entropy_objective\": {\"count\": 1, \"max\": 0.581910491706789, \"sum\": 0.581910491706789, \"min\": 0.581910491706789}}, \"EndTime\": 1557422328.629136, \"Dimensions\": {\"model\": 21, \"Host\": \"algo-1\", \"Operation\": \"training\", \"Algorithm\": \"Linear Learner\", \"epoch\": 3}, \"StartTime\": 1557422328.629122}\n",
      "\u001b[0m\n",
      "\u001b[31m#metrics {\"Metrics\": {\"train_binary_classification_cross_entropy_objective\": {\"count\": 1, \"max\": 0.5817857263845991, \"sum\": 0.5817857263845991, \"min\": 0.5817857263845991}}, \"EndTime\": 1557422328.629188, \"Dimensions\": {\"model\": 22, \"Host\": \"algo-1\", \"Operation\": \"training\", \"Algorithm\": \"Linear Learner\", \"epoch\": 3}, \"StartTime\": 1557422328.629174}\n",
      "\u001b[0m\n",
      "\u001b[31m#metrics {\"Metrics\": {\"train_binary_classification_cross_entropy_objective\": {\"count\": 1, \"max\": 0.5819116196743278, \"sum\": 0.5819116196743278, \"min\": 0.5819116196743278}}, \"EndTime\": 1557422328.629238, \"Dimensions\": {\"model\": 23, \"Host\": \"algo-1\", \"Operation\": \"training\", \"Algorithm\": \"Linear Learner\", \"epoch\": 3}, \"StartTime\": 1557422328.629224}\n",
      "\u001b[0m\n",
      "\u001b[31m#metrics {\"Metrics\": {\"train_binary_classification_cross_entropy_objective\": {\"count\": 1, \"max\": 0.5990810721937077, \"sum\": 0.5990810721937077, \"min\": 0.5990810721937077}}, \"EndTime\": 1557422328.629289, \"Dimensions\": {\"model\": 24, \"Host\": \"algo-1\", \"Operation\": \"training\", \"Algorithm\": \"Linear Learner\", \"epoch\": 3}, \"StartTime\": 1557422328.629274}\n",
      "\u001b[0m\n",
      "\u001b[31m#metrics {\"Metrics\": {\"train_binary_classification_cross_entropy_objective\": {\"count\": 1, \"max\": 0.5991112860154736, \"sum\": 0.5991112860154736, \"min\": 0.5991112860154736}}, \"EndTime\": 1557422328.629349, \"Dimensions\": {\"model\": 25, \"Host\": \"algo-1\", \"Operation\": \"training\", \"Algorithm\": \"Linear Learner\", \"epoch\": 3}, \"StartTime\": 1557422328.629334}\n",
      "\u001b[0m\n",
      "\u001b[31m#metrics {\"Metrics\": {\"train_binary_classification_cross_entropy_objective\": {\"count\": 1, \"max\": 0.5990816357043363, \"sum\": 0.5990816357043363, \"min\": 0.5990816357043363}}, \"EndTime\": 1557422328.629402, \"Dimensions\": {\"model\": 26, \"Host\": \"algo-1\", \"Operation\": \"training\", \"Algorithm\": \"Linear Learner\", \"epoch\": 3}, \"StartTime\": 1557422328.629388}\n",
      "\u001b[0m\n",
      "\u001b[31m#metrics {\"Metrics\": {\"train_binary_classification_cross_entropy_objective\": {\"count\": 1, \"max\": 0.599110560217569, \"sum\": 0.599110560217569, \"min\": 0.599110560217569}}, \"EndTime\": 1557422328.629455, \"Dimensions\": {\"model\": 27, \"Host\": \"algo-1\", \"Operation\": \"training\", \"Algorithm\": \"Linear Learner\", \"epoch\": 3}, \"StartTime\": 1557422328.629441}\n",
      "\u001b[0m\n",
      "\u001b[31m#metrics {\"Metrics\": {\"train_binary_classification_cross_entropy_objective\": {\"count\": 1, \"max\": 0.6003481289176054, \"sum\": 0.6003481289176054, \"min\": 0.6003481289176054}}, \"EndTime\": 1557422328.629506, \"Dimensions\": {\"model\": 28, \"Host\": \"algo-1\", \"Operation\": \"training\", \"Algorithm\": \"Linear Learner\", \"epoch\": 3}, \"StartTime\": 1557422328.629492}\n",
      "\u001b[0m\n",
      "\u001b[31m#metrics {\"Metrics\": {\"train_binary_classification_cross_entropy_objective\": {\"count\": 1, \"max\": 0.6004780543127726, \"sum\": 0.6004780543127726, \"min\": 0.6004780543127726}}, \"EndTime\": 1557422328.629567, \"Dimensions\": {\"model\": 29, \"Host\": \"algo-1\", \"Operation\": \"training\", \"Algorithm\": \"Linear Learner\", \"epoch\": 3}, \"StartTime\": 1557422328.629551}\n",
      "\u001b[0m\n",
      "\u001b[31m#metrics {\"Metrics\": {\"train_binary_classification_cross_entropy_objective\": {\"count\": 1, \"max\": 0.6003483295292817, \"sum\": 0.6003483295292817, \"min\": 0.6003483295292817}}, \"EndTime\": 1557422328.629624, \"Dimensions\": {\"model\": 30, \"Host\": \"algo-1\", \"Operation\": \"training\", \"Algorithm\": \"Linear Learner\", \"epoch\": 3}, \"StartTime\": 1557422328.629609}\n",
      "\u001b[0m\n",
      "\u001b[31m#metrics {\"Metrics\": {\"train_binary_classification_cross_entropy_objective\": {\"count\": 1, \"max\": 0.6004740804036458, \"sum\": 0.6004740804036458, \"min\": 0.6004740804036458}}, \"EndTime\": 1557422328.629679, \"Dimensions\": {\"model\": 31, \"Host\": \"algo-1\", \"Operation\": \"training\", \"Algorithm\": \"Linear Learner\", \"epoch\": 3}, \"StartTime\": 1557422328.629664}\n",
      "\u001b[0m\n",
      "\u001b[31m[05/09/2019 17:18:48 INFO 140071535105856] #quality_metric: host=algo-1, epoch=3, train binary_classification_cross_entropy_objective <loss>=0.44776965332\u001b[0m\n",
      "\u001b[31m[05/09/2019 17:18:48 INFO 140071535105856] #early_stopping_criteria_metric: host=algo-1, epoch=3, criteria=binary_classification_cross_entropy_objective, value=0.364898348076\u001b[0m\n",
      "\u001b[31m[05/09/2019 17:18:48 INFO 140071535105856] #progress_metric: host=algo-1, completed 26 % of epochs\u001b[0m\n",
      "\u001b[31m#metrics {\"Metrics\": {\"Max Batches Seen Between Resets\": {\"count\": 1, \"max\": 130, \"sum\": 130.0, \"min\": 130}, \"Number of Batches Since Last Reset\": {\"count\": 1, \"max\": 130, \"sum\": 130.0, \"min\": 130}, \"Number of Records Since Last Reset\": {\"count\": 1, \"max\": 129447, \"sum\": 129447.0, \"min\": 129447}, \"Total Batches Seen\": {\"count\": 1, \"max\": 532, \"sum\": 532.0, \"min\": 532}, \"Total Records Seen\": {\"count\": 1, \"max\": 529788, \"sum\": 529788.0, \"min\": 529788}, \"Max Records Seen Between Resets\": {\"count\": 1, \"max\": 129447, \"sum\": 129447.0, \"min\": 129447}, \"Reset Count\": {\"count\": 1, \"max\": 6, \"sum\": 6.0, \"min\": 6}}, \"EndTime\": 1557422328.631725, \"Dimensions\": {\"Host\": \"algo-1\", \"Meta\": \"training_data_iter\", \"Operation\": \"training\", \"Algorithm\": \"Linear Learner\", \"epoch\": 3}, \"StartTime\": 1557422324.553382}\n",
      "\u001b[0m\n",
      "\u001b[31m[05/09/2019 17:18:48 INFO 140071535105856] #throughput_metric: host=algo-1, train throughput=31739.1934612 records/second\u001b[0m\n",
      "\u001b[31m[2019-05-09 17:18:48.631] [tensorio] [info] data_pipeline_stats={\"name\": \"/opt/ml/input/data/train\", \"epoch\": 5, \"duration\": 4078, \"num_examples\": 130}\u001b[0m\n"
     ]
    },
    {
     "name": "stdout",
     "output_type": "stream",
     "text": [
      "\u001b[31m#metrics {\"Metrics\": {\"train_binary_classification_cross_entropy_objective\": {\"count\": 1, \"max\": 0.434772292262824, \"sum\": 0.434772292262824, \"min\": 0.434772292262824}}, \"EndTime\": 1557422332.363125, \"Dimensions\": {\"model\": 0, \"Host\": \"algo-1\", \"Operation\": \"training\", \"Algorithm\": \"Linear Learner\", \"epoch\": 4}, \"StartTime\": 1557422332.363042}\n",
      "\u001b[0m\n",
      "\u001b[31m#metrics {\"Metrics\": {\"train_binary_classification_cross_entropy_objective\": {\"count\": 1, \"max\": 0.4203715633421905, \"sum\": 0.4203715633421905, \"min\": 0.4203715633421905}}, \"EndTime\": 1557422332.363217, \"Dimensions\": {\"model\": 1, \"Host\": \"algo-1\", \"Operation\": \"training\", \"Algorithm\": \"Linear Learner\", \"epoch\": 4}, \"StartTime\": 1557422332.363202}\n",
      "\u001b[0m\n",
      "\u001b[31m#metrics {\"Metrics\": {\"train_binary_classification_cross_entropy_objective\": {\"count\": 1, \"max\": 0.4371113860847414, \"sum\": 0.4371113860847414, \"min\": 0.4371113860847414}}, \"EndTime\": 1557422332.363263, \"Dimensions\": {\"model\": 2, \"Host\": \"algo-1\", \"Operation\": \"training\", \"Algorithm\": \"Linear Learner\", \"epoch\": 4}, \"StartTime\": 1557422332.363252}\n",
      "\u001b[0m\n",
      "\u001b[31m#metrics {\"Metrics\": {\"train_binary_classification_cross_entropy_objective\": {\"count\": 1, \"max\": 0.4196640575320222, \"sum\": 0.4196640575320222, \"min\": 0.4196640575320222}}, \"EndTime\": 1557422332.363303, \"Dimensions\": {\"model\": 3, \"Host\": \"algo-1\", \"Operation\": \"training\", \"Algorithm\": \"Linear Learner\", \"epoch\": 4}, \"StartTime\": 1557422332.363293}\n",
      "\u001b[0m\n",
      "\u001b[31m#metrics {\"Metrics\": {\"train_binary_classification_cross_entropy_objective\": {\"count\": 1, \"max\": 0.36497375180739766, \"sum\": 0.36497375180739766, \"min\": 0.36497375180739766}}, \"EndTime\": 1557422332.36334, \"Dimensions\": {\"model\": 4, \"Host\": \"algo-1\", \"Operation\": \"training\", \"Algorithm\": \"Linear Learner\", \"epoch\": 4}, \"StartTime\": 1557422332.363331}\n",
      "\u001b[0m\n",
      "\u001b[31m#metrics {\"Metrics\": {\"train_binary_classification_cross_entropy_objective\": {\"count\": 1, \"max\": 0.36532418728614036, \"sum\": 0.36532418728614036, \"min\": 0.36532418728614036}}, \"EndTime\": 1557422332.363379, \"Dimensions\": {\"model\": 5, \"Host\": \"algo-1\", \"Operation\": \"training\", \"Algorithm\": \"Linear Learner\", \"epoch\": 4}, \"StartTime\": 1557422332.363369}\n",
      "\u001b[0m\n",
      "\u001b[31m#metrics {\"Metrics\": {\"train_binary_classification_cross_entropy_objective\": {\"count\": 1, \"max\": 0.3649728748410247, \"sum\": 0.3649728748410247, \"min\": 0.3649728748410247}}, \"EndTime\": 1557422332.363416, \"Dimensions\": {\"model\": 6, \"Host\": \"algo-1\", \"Operation\": \"training\", \"Algorithm\": \"Linear Learner\", \"epoch\": 4}, \"StartTime\": 1557422332.363406}\n",
      "\u001b[0m\n",
      "\u001b[31m#metrics {\"Metrics\": {\"train_binary_classification_cross_entropy_objective\": {\"count\": 1, \"max\": 0.36532760383546814, \"sum\": 0.36532760383546814, \"min\": 0.36532760383546814}}, \"EndTime\": 1557422332.363453, \"Dimensions\": {\"model\": 7, \"Host\": \"algo-1\", \"Operation\": \"training\", \"Algorithm\": \"Linear Learner\", \"epoch\": 4}, \"StartTime\": 1557422332.363443}\n",
      "\u001b[0m\n",
      "\u001b[31m#metrics {\"Metrics\": {\"train_binary_classification_cross_entropy_objective\": {\"count\": 1, \"max\": 0.44800311705123547, \"sum\": 0.44800311705123547, \"min\": 0.44800311705123547}}, \"EndTime\": 1557422332.363491, \"Dimensions\": {\"model\": 8, \"Host\": \"algo-1\", \"Operation\": \"training\", \"Algorithm\": \"Linear Learner\", \"epoch\": 4}, \"StartTime\": 1557422332.363481}\n",
      "\u001b[0m\n",
      "\u001b[31m#metrics {\"Metrics\": {\"train_binary_classification_cross_entropy_objective\": {\"count\": 1, \"max\": 0.43944103814649954, \"sum\": 0.43944103814649954, \"min\": 0.43944103814649954}}, \"EndTime\": 1557422332.36353, \"Dimensions\": {\"model\": 9, \"Host\": \"algo-1\", \"Operation\": \"training\", \"Algorithm\": \"Linear Learner\", \"epoch\": 4}, \"StartTime\": 1557422332.36352}\n",
      "\u001b[0m\n",
      "\u001b[31m#metrics {\"Metrics\": {\"train_binary_classification_cross_entropy_objective\": {\"count\": 1, \"max\": 0.445145553470582, \"sum\": 0.445145553470582, \"min\": 0.445145553470582}}, \"EndTime\": 1557422332.363574, \"Dimensions\": {\"model\": 10, \"Host\": \"algo-1\", \"Operation\": \"training\", \"Algorithm\": \"Linear Learner\", \"epoch\": 4}, \"StartTime\": 1557422332.363563}\n",
      "\u001b[0m\n",
      "\u001b[31m#metrics {\"Metrics\": {\"train_binary_classification_cross_entropy_objective\": {\"count\": 1, \"max\": 0.4356555641824885, \"sum\": 0.4356555641824885, \"min\": 0.4356555641824885}}, \"EndTime\": 1557422332.363618, \"Dimensions\": {\"model\": 11, \"Host\": \"algo-1\", \"Operation\": \"training\", \"Algorithm\": \"Linear Learner\", \"epoch\": 4}, \"StartTime\": 1557422332.363608}\n",
      "\u001b[0m\n",
      "\u001b[31m#metrics {\"Metrics\": {\"train_binary_classification_cross_entropy_objective\": {\"count\": 1, \"max\": 0.41929058932518776, \"sum\": 0.41929058932518776, \"min\": 0.41929058932518776}}, \"EndTime\": 1557422332.363662, \"Dimensions\": {\"model\": 12, \"Host\": \"algo-1\", \"Operation\": \"training\", \"Algorithm\": \"Linear Learner\", \"epoch\": 4}, \"StartTime\": 1557422332.363651}\n",
      "\u001b[0m\n",
      "\u001b[31m#metrics {\"Metrics\": {\"train_binary_classification_cross_entropy_objective\": {\"count\": 1, \"max\": 0.4198836097421572, \"sum\": 0.4198836097421572, \"min\": 0.4198836097421572}}, \"EndTime\": 1557422332.363705, \"Dimensions\": {\"model\": 13, \"Host\": \"algo-1\", \"Operation\": \"training\", \"Algorithm\": \"Linear Learner\", \"epoch\": 4}, \"StartTime\": 1557422332.363695}\n",
      "\u001b[0m\n",
      "\u001b[31m#metrics {\"Metrics\": {\"train_binary_classification_cross_entropy_objective\": {\"count\": 1, \"max\": 0.4192876816387324, \"sum\": 0.4192876816387324, \"min\": 0.4192876816387324}}, \"EndTime\": 1557422332.363749, \"Dimensions\": {\"model\": 14, \"Host\": \"algo-1\", \"Operation\": \"training\", \"Algorithm\": \"Linear Learner\", \"epoch\": 4}, \"StartTime\": 1557422332.363739}\n",
      "\u001b[0m\n",
      "\u001b[31m#metrics {\"Metrics\": {\"train_binary_classification_cross_entropy_objective\": {\"count\": 1, \"max\": 0.4198841278312742, \"sum\": 0.4198841278312742, \"min\": 0.4198841278312742}}, \"EndTime\": 1557422332.363792, \"Dimensions\": {\"model\": 15, \"Host\": \"algo-1\", \"Operation\": \"training\", \"Algorithm\": \"Linear Learner\", \"epoch\": 4}, \"StartTime\": 1557422332.363781}\n",
      "\u001b[0m\n",
      "\u001b[31m#metrics {\"Metrics\": {\"train_binary_classification_cross_entropy_objective\": {\"count\": 1, \"max\": 0.5805995511786882, \"sum\": 0.5805995511786882, \"min\": 0.5805995511786882}}, \"EndTime\": 1557422332.363835, \"Dimensions\": {\"model\": 16, \"Host\": \"algo-1\", \"Operation\": \"training\", \"Algorithm\": \"Linear Learner\", \"epoch\": 4}, \"StartTime\": 1557422332.363824}\n",
      "\u001b[0m\n",
      "\u001b[31m#metrics {\"Metrics\": {\"train_binary_classification_cross_entropy_objective\": {\"count\": 1, \"max\": 0.5806396484375, \"sum\": 0.5806396484375, \"min\": 0.5806396484375}}, \"EndTime\": 1557422332.363888, \"Dimensions\": {\"model\": 17, \"Host\": \"algo-1\", \"Operation\": \"training\", \"Algorithm\": \"Linear Learner\", \"epoch\": 4}, \"StartTime\": 1557422332.363878}\n",
      "\u001b[0m\n",
      "\u001b[31m#metrics {\"Metrics\": {\"train_binary_classification_cross_entropy_objective\": {\"count\": 1, \"max\": 0.5805996273543483, \"sum\": 0.5805996273543483, \"min\": 0.5805996273543483}}, \"EndTime\": 1557422332.363933, \"Dimensions\": {\"model\": 18, \"Host\": \"algo-1\", \"Operation\": \"training\", \"Algorithm\": \"Linear Learner\", \"epoch\": 4}, \"StartTime\": 1557422332.363923}\n",
      "\u001b[0m\n",
      "\u001b[31m#metrics {\"Metrics\": {\"train_binary_classification_cross_entropy_objective\": {\"count\": 1, \"max\": 0.5806379924448886, \"sum\": 0.5806379924448886, \"min\": 0.5806379924448886}}, \"EndTime\": 1557422332.363976, \"Dimensions\": {\"model\": 19, \"Host\": \"algo-1\", \"Operation\": \"training\", \"Algorithm\": \"Linear Learner\", \"epoch\": 4}, \"StartTime\": 1557422332.363966}\n",
      "\u001b[0m\n",
      "\u001b[31m#metrics {\"Metrics\": {\"train_binary_classification_cross_entropy_objective\": {\"count\": 1, \"max\": 0.5817685816565226, \"sum\": 0.5817685816565226, \"min\": 0.5817685816565226}}, \"EndTime\": 1557422332.364018, \"Dimensions\": {\"model\": 20, \"Host\": \"algo-1\", \"Operation\": \"training\", \"Algorithm\": \"Linear Learner\", \"epoch\": 4}, \"StartTime\": 1557422332.364008}\n",
      "\u001b[0m\n",
      "\u001b[31m#metrics {\"Metrics\": {\"train_binary_classification_cross_entropy_objective\": {\"count\": 1, \"max\": 0.5819267327360405, \"sum\": 0.5819267327360405, \"min\": 0.5819267327360405}}, \"EndTime\": 1557422332.36406, \"Dimensions\": {\"model\": 21, \"Host\": \"algo-1\", \"Operation\": \"training\", \"Algorithm\": \"Linear Learner\", \"epoch\": 4}, \"StartTime\": 1557422332.36405}\n",
      "\u001b[0m\n",
      "\u001b[31m#metrics {\"Metrics\": {\"train_binary_classification_cross_entropy_objective\": {\"count\": 1, \"max\": 0.5817444122077883, \"sum\": 0.5817444122077883, \"min\": 0.5817444122077883}}, \"EndTime\": 1557422332.364103, \"Dimensions\": {\"model\": 22, \"Host\": \"algo-1\", \"Operation\": \"training\", \"Algorithm\": \"Linear Learner\", \"epoch\": 4}, \"StartTime\": 1557422332.364093}\n",
      "\u001b[0m\n",
      "\u001b[31m#metrics {\"Metrics\": {\"train_binary_classification_cross_entropy_objective\": {\"count\": 1, \"max\": 0.5819272177053052, \"sum\": 0.5819272177053052, \"min\": 0.5819272177053052}}, \"EndTime\": 1557422332.364145, \"Dimensions\": {\"model\": 23, \"Host\": \"algo-1\", \"Operation\": \"training\", \"Algorithm\": \"Linear Learner\", \"epoch\": 4}, \"StartTime\": 1557422332.364135}\n",
      "\u001b[0m\n",
      "\u001b[31m#metrics {\"Metrics\": {\"train_binary_classification_cross_entropy_objective\": {\"count\": 1, \"max\": 0.5990801703874455, \"sum\": 0.5990801703874455, \"min\": 0.5990801703874455}}, \"EndTime\": 1557422332.364182, \"Dimensions\": {\"model\": 24, \"Host\": \"algo-1\", \"Operation\": \"training\", \"Algorithm\": \"Linear Learner\", \"epoch\": 4}, \"StartTime\": 1557422332.364172}\n",
      "\u001b[0m\n",
      "\u001b[31m#metrics {\"Metrics\": {\"train_binary_classification_cross_entropy_objective\": {\"count\": 1, \"max\": 0.5991191713791485, \"sum\": 0.5991191713791485, \"min\": 0.5991191713791485}}, \"EndTime\": 1557422332.364224, \"Dimensions\": {\"model\": 25, \"Host\": \"algo-1\", \"Operation\": \"training\", \"Algorithm\": \"Linear Learner\", \"epoch\": 4}, \"StartTime\": 1557422332.364214}\n",
      "\u001b[0m\n",
      "\u001b[31m#metrics {\"Metrics\": {\"train_binary_classification_cross_entropy_objective\": {\"count\": 1, \"max\": 0.5990807386294816, \"sum\": 0.5990807386294816, \"min\": 0.5990807386294816}}, \"EndTime\": 1557422332.364266, \"Dimensions\": {\"model\": 26, \"Host\": \"algo-1\", \"Operation\": \"training\", \"Algorithm\": \"Linear Learner\", \"epoch\": 4}, \"StartTime\": 1557422332.364256}\n",
      "\u001b[0m\n",
      "\u001b[31m#metrics {\"Metrics\": {\"train_binary_classification_cross_entropy_objective\": {\"count\": 1, \"max\": 0.5991194732429446, \"sum\": 0.5991194732429446, \"min\": 0.5991194732429446}}, \"EndTime\": 1557422332.364308, \"Dimensions\": {\"model\": 27, \"Host\": \"algo-1\", \"Operation\": \"training\", \"Algorithm\": \"Linear Learner\", \"epoch\": 4}, \"StartTime\": 1557422332.364298}\n",
      "\u001b[0m\n",
      "\u001b[31m#metrics {\"Metrics\": {\"train_binary_classification_cross_entropy_objective\": {\"count\": 1, \"max\": 0.6002373699809229, \"sum\": 0.6002373699809229, \"min\": 0.6002373699809229}}, \"EndTime\": 1557422332.36435, \"Dimensions\": {\"model\": 28, \"Host\": \"algo-1\", \"Operation\": \"training\", \"Algorithm\": \"Linear Learner\", \"epoch\": 4}, \"StartTime\": 1557422332.36434}\n",
      "\u001b[0m\n",
      "\u001b[31m#metrics {\"Metrics\": {\"train_binary_classification_cross_entropy_objective\": {\"count\": 1, \"max\": 0.6004627179286277, \"sum\": 0.6004627179286277, \"min\": 0.6004627179286277}}, \"EndTime\": 1557422332.364401, \"Dimensions\": {\"model\": 29, \"Host\": \"algo-1\", \"Operation\": \"training\", \"Algorithm\": \"Linear Learner\", \"epoch\": 4}, \"StartTime\": 1557422332.364387}\n",
      "\u001b[0m\n",
      "\u001b[31m#metrics {\"Metrics\": {\"train_binary_classification_cross_entropy_objective\": {\"count\": 1, \"max\": 0.6002398657983588, \"sum\": 0.6002398657983588, \"min\": 0.6002398657983588}}, \"EndTime\": 1557422332.364453, \"Dimensions\": {\"model\": 30, \"Host\": \"algo-1\", \"Operation\": \"training\", \"Algorithm\": \"Linear Learner\", \"epoch\": 4}, \"StartTime\": 1557422332.364439}\n",
      "\u001b[0m\n",
      "\u001b[31m#metrics {\"Metrics\": {\"train_binary_classification_cross_entropy_objective\": {\"count\": 1, \"max\": 0.6004563962951187, \"sum\": 0.6004563962951187, \"min\": 0.6004563962951187}}, \"EndTime\": 1557422332.364497, \"Dimensions\": {\"model\": 31, \"Host\": \"algo-1\", \"Operation\": \"training\", \"Algorithm\": \"Linear Learner\", \"epoch\": 4}, \"StartTime\": 1557422332.364485}\n",
      "\u001b[0m\n",
      "\u001b[31m[05/09/2019 17:18:52 INFO 140071535105856] #quality_metric: host=algo-1, epoch=4, train binary_classification_cross_entropy_objective <loss>=0.434772292263\u001b[0m\n",
      "\u001b[31m[05/09/2019 17:18:52 INFO 140071535105856] #early_stopping_criteria_metric: host=algo-1, epoch=4, criteria=binary_classification_cross_entropy_objective, value=0.364972874841\u001b[0m\n",
      "\u001b[31m[05/09/2019 17:18:52 INFO 140071535105856] #progress_metric: host=algo-1, completed 33 % of epochs\u001b[0m\n",
      "\u001b[31m#metrics {\"Metrics\": {\"Max Batches Seen Between Resets\": {\"count\": 1, \"max\": 130, \"sum\": 130.0, \"min\": 130}, \"Number of Batches Since Last Reset\": {\"count\": 1, \"max\": 130, \"sum\": 130.0, \"min\": 130}, \"Number of Records Since Last Reset\": {\"count\": 1, \"max\": 129447, \"sum\": 129447.0, \"min\": 129447}, \"Total Batches Seen\": {\"count\": 1, \"max\": 662, \"sum\": 662.0, \"min\": 662}, \"Total Records Seen\": {\"count\": 1, \"max\": 659235, \"sum\": 659235.0, \"min\": 659235}, \"Max Records Seen Between Resets\": {\"count\": 1, \"max\": 129447, \"sum\": 129447.0, \"min\": 129447}, \"Reset Count\": {\"count\": 1, \"max\": 7, \"sum\": 7.0, \"min\": 7}}, \"EndTime\": 1557422332.366468, \"Dimensions\": {\"Host\": \"algo-1\", \"Meta\": \"training_data_iter\", \"Operation\": \"training\", \"Algorithm\": \"Linear Learner\", \"epoch\": 4}, \"StartTime\": 1557422328.631992}\n",
      "\u001b[0m\n",
      "\u001b[31m[05/09/2019 17:18:52 INFO 140071535105856] #throughput_metric: host=algo-1, train throughput=34661.673338 records/second\u001b[0m\n",
      "\u001b[31m[2019-05-09 17:18:52.366] [tensorio] [info] data_pipeline_stats={\"name\": \"/opt/ml/input/data/train\", \"epoch\": 6, \"duration\": 3734, \"num_examples\": 130}\u001b[0m\n",
      "\u001b[31m#metrics {\"Metrics\": {\"train_binary_classification_cross_entropy_objective\": {\"count\": 1, \"max\": 0.42517196678930474, \"sum\": 0.42517196678930474, \"min\": 0.42517196678930474}}, \"EndTime\": 1557422336.233918, \"Dimensions\": {\"model\": 0, \"Host\": \"algo-1\", \"Operation\": \"training\", \"Algorithm\": \"Linear Learner\", \"epoch\": 5}, \"StartTime\": 1557422336.233855}\n",
      "\u001b[0m\n",
      "\u001b[31m#metrics {\"Metrics\": {\"train_binary_classification_cross_entropy_objective\": {\"count\": 1, \"max\": 0.40879647235722505, \"sum\": 0.40879647235722505, \"min\": 0.40879647235722505}}, \"EndTime\": 1557422336.234005, \"Dimensions\": {\"model\": 1, \"Host\": \"algo-1\", \"Operation\": \"training\", \"Algorithm\": \"Linear Learner\", \"epoch\": 5}, \"StartTime\": 1557422336.233988}\n",
      "\u001b[0m\n",
      "\u001b[31m#metrics {\"Metrics\": {\"train_binary_classification_cross_entropy_objective\": {\"count\": 1, \"max\": 0.42732608907536945, \"sum\": 0.42732608907536945, \"min\": 0.42732608907536945}}, \"EndTime\": 1557422336.23406, \"Dimensions\": {\"model\": 2, \"Host\": \"algo-1\", \"Operation\": \"training\", \"Algorithm\": \"Linear Learner\", \"epoch\": 5}, \"StartTime\": 1557422336.234045}\n",
      "\u001b[0m\n",
      "\u001b[31m#metrics {\"Metrics\": {\"train_binary_classification_cross_entropy_objective\": {\"count\": 1, \"max\": 0.40816487677522406, \"sum\": 0.40816487677522406, \"min\": 0.40816487677522406}}, \"EndTime\": 1557422336.234112, \"Dimensions\": {\"model\": 3, \"Host\": \"algo-1\", \"Operation\": \"training\", \"Algorithm\": \"Linear Learner\", \"epoch\": 5}, \"StartTime\": 1557422336.234097}\n",
      "\u001b[0m\n",
      "\u001b[31m#metrics {\"Metrics\": {\"train_binary_classification_cross_entropy_objective\": {\"count\": 1, \"max\": 0.3649873993156492, \"sum\": 0.3649873993156492, \"min\": 0.3649873993156492}}, \"EndTime\": 1557422336.234161, \"Dimensions\": {\"model\": 4, \"Host\": \"algo-1\", \"Operation\": \"training\", \"Algorithm\": \"Linear Learner\", \"epoch\": 5}, \"StartTime\": 1557422336.234148}\n",
      "\u001b[0m\n",
      "\u001b[31m#metrics {\"Metrics\": {\"train_binary_classification_cross_entropy_objective\": {\"count\": 1, \"max\": 0.365372219351835, \"sum\": 0.365372219351835, \"min\": 0.365372219351835}}, \"EndTime\": 1557422336.234207, \"Dimensions\": {\"model\": 5, \"Host\": \"algo-1\", \"Operation\": \"training\", \"Algorithm\": \"Linear Learner\", \"epoch\": 5}, \"StartTime\": 1557422336.234194}\n",
      "\u001b[0m\n",
      "\u001b[31m#metrics {\"Metrics\": {\"train_binary_classification_cross_entropy_objective\": {\"count\": 1, \"max\": 0.3649836156091025, \"sum\": 0.3649836156091025, \"min\": 0.3649836156091025}}, \"EndTime\": 1557422336.234261, \"Dimensions\": {\"model\": 6, \"Host\": \"algo-1\", \"Operation\": \"training\", \"Algorithm\": \"Linear Learner\", \"epoch\": 5}, \"StartTime\": 1557422336.234246}\n",
      "\u001b[0m\n",
      "\u001b[31m#metrics {\"Metrics\": {\"train_binary_classification_cross_entropy_objective\": {\"count\": 1, \"max\": 0.36537898550107495, \"sum\": 0.36537898550107495, \"min\": 0.36537898550107495}}, \"EndTime\": 1557422336.234311, \"Dimensions\": {\"model\": 7, \"Host\": \"algo-1\", \"Operation\": \"training\", \"Algorithm\": \"Linear Learner\", \"epoch\": 5}, \"StartTime\": 1557422336.234297}\n",
      "\u001b[0m\n",
      "\u001b[31m#metrics {\"Metrics\": {\"train_binary_classification_cross_entropy_objective\": {\"count\": 1, \"max\": 0.4410119098988614, \"sum\": 0.4410119098988614, \"min\": 0.4410119098988614}}, \"EndTime\": 1557422336.234375, \"Dimensions\": {\"model\": 8, \"Host\": \"algo-1\", \"Operation\": \"training\", \"Algorithm\": \"Linear Learner\", \"epoch\": 5}, \"StartTime\": 1557422336.234359}\n",
      "\u001b[0m\n",
      "\u001b[31m#metrics {\"Metrics\": {\"train_binary_classification_cross_entropy_objective\": {\"count\": 1, \"max\": 0.4318534810857255, \"sum\": 0.4318534810857255, \"min\": 0.4318534810857255}}, \"EndTime\": 1557422336.234426, \"Dimensions\": {\"model\": 9, \"Host\": \"algo-1\", \"Operation\": \"training\", \"Algorithm\": \"Linear Learner\", \"epoch\": 5}, \"StartTime\": 1557422336.234411}\n",
      "\u001b[0m\n",
      "\u001b[31m#metrics {\"Metrics\": {\"train_binary_classification_cross_entropy_objective\": {\"count\": 1, \"max\": 0.4385132176598837, \"sum\": 0.4385132176598837, \"min\": 0.4385132176598837}}, \"EndTime\": 1557422336.234471, \"Dimensions\": {\"model\": 10, \"Host\": \"algo-1\", \"Operation\": \"training\", \"Algorithm\": \"Linear Learner\", \"epoch\": 5}, \"StartTime\": 1557422336.234461}\n",
      "\u001b[0m\n",
      "\u001b[31m#metrics {\"Metrics\": {\"train_binary_classification_cross_entropy_objective\": {\"count\": 1, \"max\": 0.4290098832004754, \"sum\": 0.4290098832004754, \"min\": 0.4290098832004754}}, \"EndTime\": 1557422336.234518, \"Dimensions\": {\"model\": 11, \"Host\": \"algo-1\", \"Operation\": \"training\", \"Algorithm\": \"Linear Learner\", \"epoch\": 5}, \"StartTime\": 1557422336.234504}\n",
      "\u001b[0m\n",
      "\u001b[31m#metrics {\"Metrics\": {\"train_binary_classification_cross_entropy_objective\": {\"count\": 1, \"max\": 0.4192257534293241, \"sum\": 0.4192257534293241, \"min\": 0.4192257534293241}}, \"EndTime\": 1557422336.234574, \"Dimensions\": {\"model\": 12, \"Host\": \"algo-1\", \"Operation\": \"training\", \"Algorithm\": \"Linear Learner\", \"epoch\": 5}, \"StartTime\": 1557422336.234558}\n",
      "\u001b[0m\n",
      "\u001b[31m#metrics {\"Metrics\": {\"train_binary_classification_cross_entropy_objective\": {\"count\": 1, \"max\": 0.41988089509712634, \"sum\": 0.41988089509712634, \"min\": 0.41988089509712634}}, \"EndTime\": 1557422336.234627, \"Dimensions\": {\"model\": 13, \"Host\": \"algo-1\", \"Operation\": \"training\", \"Algorithm\": \"Linear Learner\", \"epoch\": 5}, \"StartTime\": 1557422336.234612}\n",
      "\u001b[0m\n",
      "\u001b[31m#metrics {\"Metrics\": {\"train_binary_classification_cross_entropy_objective\": {\"count\": 1, \"max\": 0.4192237390325975, \"sum\": 0.4192237390325975, \"min\": 0.4192237390325975}}, \"EndTime\": 1557422336.234685, \"Dimensions\": {\"model\": 14, \"Host\": \"algo-1\", \"Operation\": \"training\", \"Algorithm\": \"Linear Learner\", \"epoch\": 5}, \"StartTime\": 1557422336.234672}\n",
      "\u001b[0m\n",
      "\u001b[31m#metrics {\"Metrics\": {\"train_binary_classification_cross_entropy_objective\": {\"count\": 1, \"max\": 0.4198813930777616, \"sum\": 0.4198813930777616, \"min\": 0.4198813930777616}}, \"EndTime\": 1557422336.234736, \"Dimensions\": {\"model\": 15, \"Host\": \"algo-1\", \"Operation\": \"training\", \"Algorithm\": \"Linear Learner\", \"epoch\": 5}, \"StartTime\": 1557422336.234722}\n",
      "\u001b[0m\n",
      "\u001b[31m#metrics {\"Metrics\": {\"train_binary_classification_cross_entropy_objective\": {\"count\": 1, \"max\": 0.5805957390836967, \"sum\": 0.5805957390836967, \"min\": 0.5805957390836967}}, \"EndTime\": 1557422336.23477, \"Dimensions\": {\"model\": 16, \"Host\": \"algo-1\", \"Operation\": \"training\", \"Algorithm\": \"Linear Learner\", \"epoch\": 5}, \"StartTime\": 1557422336.234762}\n",
      "\u001b[0m\n",
      "\u001b[31m#metrics {\"Metrics\": {\"train_binary_classification_cross_entropy_objective\": {\"count\": 1, \"max\": 0.5806458309676296, \"sum\": 0.5806458309676296, \"min\": 0.5806458309676296}}, \"EndTime\": 1557422336.234796, \"Dimensions\": {\"model\": 17, \"Host\": \"algo-1\", \"Operation\": \"training\", \"Algorithm\": \"Linear Learner\", \"epoch\": 5}, \"StartTime\": 1557422336.234789}\n",
      "\u001b[0m\n",
      "\u001b[31m#metrics {\"Metrics\": {\"train_binary_classification_cross_entropy_objective\": {\"count\": 1, \"max\": 0.5805957821395046, \"sum\": 0.5805957821395046, \"min\": 0.5805957821395046}}, \"EndTime\": 1557422336.234846, \"Dimensions\": {\"model\": 18, \"Host\": \"algo-1\", \"Operation\": \"training\", \"Algorithm\": \"Linear Learner\", \"epoch\": 5}, \"StartTime\": 1557422336.234831}\n",
      "\u001b[0m\n",
      "\u001b[31m#metrics {\"Metrics\": {\"train_binary_classification_cross_entropy_objective\": {\"count\": 1, \"max\": 0.5806436034209969, \"sum\": 0.5806436034209969, \"min\": 0.5806436034209969}}, \"EndTime\": 1557422336.234903, \"Dimensions\": {\"model\": 19, \"Host\": \"algo-1\", \"Operation\": \"training\", \"Algorithm\": \"Linear Learner\", \"epoch\": 5}, \"StartTime\": 1557422336.234887}\n",
      "\u001b[0m\n",
      "\u001b[31m#metrics {\"Metrics\": {\"train_binary_classification_cross_entropy_objective\": {\"count\": 1, \"max\": 0.5816142076595809, \"sum\": 0.5816142076595809, \"min\": 0.5816142076595809}}, \"EndTime\": 1557422336.23496, \"Dimensions\": {\"model\": 20, \"Host\": \"algo-1\", \"Operation\": \"training\", \"Algorithm\": \"Linear Learner\", \"epoch\": 5}, \"StartTime\": 1557422336.234945}\n",
      "\u001b[0m\n",
      "\u001b[31m#metrics {\"Metrics\": {\"train_binary_classification_cross_entropy_objective\": {\"count\": 1, \"max\": 0.5819221446902253, \"sum\": 0.5819221446902253, \"min\": 0.5819221446902253}}, \"EndTime\": 1557422336.235015, \"Dimensions\": {\"model\": 21, \"Host\": \"algo-1\", \"Operation\": \"training\", \"Algorithm\": \"Linear Learner\", \"epoch\": 5}, \"StartTime\": 1557422336.234999}\n",
      "\u001b[0m\n",
      "\u001b[31m#metrics {\"Metrics\": {\"train_binary_classification_cross_entropy_objective\": {\"count\": 1, \"max\": 0.5816129741816558, \"sum\": 0.5816129741816558, \"min\": 0.5816129741816558}}, \"EndTime\": 1557422336.235069, \"Dimensions\": {\"model\": 22, \"Host\": \"algo-1\", \"Operation\": \"training\", \"Algorithm\": \"Linear Learner\", \"epoch\": 5}, \"StartTime\": 1557422336.235055}\n",
      "\u001b[0m\n",
      "\u001b[31m#metrics {\"Metrics\": {\"train_binary_classification_cross_entropy_objective\": {\"count\": 1, \"max\": 0.5819223760560501, \"sum\": 0.5819223760560501, \"min\": 0.5819223760560501}}, \"EndTime\": 1557422336.235124, \"Dimensions\": {\"model\": 23, \"Host\": \"algo-1\", \"Operation\": \"training\", \"Algorithm\": \"Linear Learner\", \"epoch\": 5}, \"StartTime\": 1557422336.235109}\n",
      "\u001b[0m\n",
      "\u001b[31m#metrics {\"Metrics\": {\"train_binary_classification_cross_entropy_objective\": {\"count\": 1, \"max\": 0.5990778051568556, \"sum\": 0.5990778051568556, \"min\": 0.5990778051568556}}, \"EndTime\": 1557422336.235179, \"Dimensions\": {\"model\": 24, \"Host\": \"algo-1\", \"Operation\": \"training\", \"Algorithm\": \"Linear Learner\", \"epoch\": 5}, \"StartTime\": 1557422336.235164}\n",
      "\u001b[0m\n",
      "\u001b[31m#metrics {\"Metrics\": {\"train_binary_classification_cross_entropy_objective\": {\"count\": 1, \"max\": 0.5991248869193617, \"sum\": 0.5991248869193617, \"min\": 0.5991248869193617}}, \"EndTime\": 1557422336.235233, \"Dimensions\": {\"model\": 25, \"Host\": \"algo-1\", \"Operation\": \"training\", \"Algorithm\": \"Linear Learner\", \"epoch\": 5}, \"StartTime\": 1557422336.235219}\n",
      "\u001b[0m\n",
      "\u001b[31m#metrics {\"Metrics\": {\"train_binary_classification_cross_entropy_objective\": {\"count\": 1, \"max\": 0.5990785252770712, \"sum\": 0.5990785252770712, \"min\": 0.5990785252770712}}, \"EndTime\": 1557422336.235286, \"Dimensions\": {\"model\": 26, \"Host\": \"algo-1\", \"Operation\": \"training\", \"Algorithm\": \"Linear Learner\", \"epoch\": 5}, \"StartTime\": 1557422336.235271}\n",
      "\u001b[0m\n",
      "\u001b[31m#metrics {\"Metrics\": {\"train_binary_classification_cross_entropy_objective\": {\"count\": 1, \"max\": 0.5991254650973534, \"sum\": 0.5991254650973534, \"min\": 0.5991254650973534}}, \"EndTime\": 1557422336.235349, \"Dimensions\": {\"model\": 27, \"Host\": \"algo-1\", \"Operation\": \"training\", \"Algorithm\": \"Linear Learner\", \"epoch\": 5}, \"StartTime\": 1557422336.235334}\n",
      "\u001b[0m\n",
      "\u001b[31m#metrics {\"Metrics\": {\"train_binary_classification_cross_entropy_objective\": {\"count\": 1, \"max\": 0.6000664611343266, \"sum\": 0.6000664611343266, \"min\": 0.6000664611343266}}, \"EndTime\": 1557422336.235411, \"Dimensions\": {\"model\": 28, \"Host\": \"algo-1\", \"Operation\": \"training\", \"Algorithm\": \"Linear Learner\", \"epoch\": 5}, \"StartTime\": 1557422336.235391}\n",
      "\u001b[0m\n",
      "\u001b[31m#metrics {\"Metrics\": {\"train_binary_classification_cross_entropy_objective\": {\"count\": 1, \"max\": 0.600436549460241, \"sum\": 0.600436549460241, \"min\": 0.600436549460241}}, \"EndTime\": 1557422336.235467, \"Dimensions\": {\"model\": 29, \"Host\": \"algo-1\", \"Operation\": \"training\", \"Algorithm\": \"Linear Learner\", \"epoch\": 5}, \"StartTime\": 1557422336.235452}\n",
      "\u001b[0m\n",
      "\u001b[31m#metrics {\"Metrics\": {\"train_binary_classification_cross_entropy_objective\": {\"count\": 1, \"max\": 0.6000676203291545, \"sum\": 0.6000676203291545, \"min\": 0.6000676203291545}}, \"EndTime\": 1557422336.235522, \"Dimensions\": {\"model\": 30, \"Host\": \"algo-1\", \"Operation\": \"training\", \"Algorithm\": \"Linear Learner\", \"epoch\": 5}, \"StartTime\": 1557422336.235508}\n",
      "\u001b[0m\n",
      "\u001b[31m#metrics {\"Metrics\": {\"train_binary_classification_cross_entropy_objective\": {\"count\": 1, \"max\": 0.600434655950975, \"sum\": 0.600434655950975, \"min\": 0.600434655950975}}, \"EndTime\": 1557422336.235576, \"Dimensions\": {\"model\": 31, \"Host\": \"algo-1\", \"Operation\": \"training\", \"Algorithm\": \"Linear Learner\", \"epoch\": 5}, \"StartTime\": 1557422336.235561}\n",
      "\u001b[0m\n",
      "\u001b[31m[05/09/2019 17:18:56 INFO 140071535105856] #quality_metric: host=algo-1, epoch=5, train binary_classification_cross_entropy_objective <loss>=0.425171966789\u001b[0m\n",
      "\u001b[31m[05/09/2019 17:18:56 INFO 140071535105856] #early_stopping_criteria_metric: host=algo-1, epoch=5, criteria=binary_classification_cross_entropy_objective, value=0.364983615609\u001b[0m\n",
      "\u001b[31m[05/09/2019 17:18:56 INFO 140071535105856] #progress_metric: host=algo-1, completed 40 % of epochs\u001b[0m\n",
      "\u001b[31m#metrics {\"Metrics\": {\"Max Batches Seen Between Resets\": {\"count\": 1, \"max\": 130, \"sum\": 130.0, \"min\": 130}, \"Number of Batches Since Last Reset\": {\"count\": 1, \"max\": 130, \"sum\": 130.0, \"min\": 130}, \"Number of Records Since Last Reset\": {\"count\": 1, \"max\": 129447, \"sum\": 129447.0, \"min\": 129447}, \"Total Batches Seen\": {\"count\": 1, \"max\": 792, \"sum\": 792.0, \"min\": 792}, \"Total Records Seen\": {\"count\": 1, \"max\": 788682, \"sum\": 788682.0, \"min\": 788682}, \"Max Records Seen Between Resets\": {\"count\": 1, \"max\": 129447, \"sum\": 129447.0, \"min\": 129447}, \"Reset Count\": {\"count\": 1, \"max\": 8, \"sum\": 8.0, \"min\": 8}}, \"EndTime\": 1557422336.237534, \"Dimensions\": {\"Host\": \"algo-1\", \"Meta\": \"training_data_iter\", \"Operation\": \"training\", \"Algorithm\": \"Linear Learner\", \"epoch\": 5}, \"StartTime\": 1557422332.366747}\n",
      "\u001b[0m\n",
      "\u001b[31m[05/09/2019 17:18:56 INFO 140071535105856] #throughput_metric: host=algo-1, train throughput=33441.1721721 records/second\u001b[0m\n",
      "\u001b[31m[2019-05-09 17:18:56.237] [tensorio] [info] data_pipeline_stats={\"name\": \"/opt/ml/input/data/train\", \"epoch\": 7, \"duration\": 3870, \"num_examples\": 130}\u001b[0m\n"
     ]
    },
    {
     "name": "stdout",
     "output_type": "stream",
     "text": [
      "\n",
      "2019-05-09 17:19:12 Uploading - Uploading generated training model\n",
      "2019-05-09 17:19:12 Completed - Training job completed\n",
      "\u001b[31m#metrics {\"Metrics\": {\"train_binary_classification_cross_entropy_objective\": {\"count\": 1, \"max\": 0.4178994403218114, \"sum\": 0.4178994403218114, \"min\": 0.4178994403218114}}, \"EndTime\": 1557422340.212748, \"Dimensions\": {\"model\": 0, \"Host\": \"algo-1\", \"Operation\": \"training\", \"Algorithm\": \"Linear Learner\", \"epoch\": 6}, \"StartTime\": 1557422340.212688}\n",
      "\u001b[0m\n",
      "\u001b[31m#metrics {\"Metrics\": {\"train_binary_classification_cross_entropy_objective\": {\"count\": 1, \"max\": 0.399944669501726, \"sum\": 0.399944669501726, \"min\": 0.399944669501726}}, \"EndTime\": 1557422340.212823, \"Dimensions\": {\"model\": 1, \"Host\": \"algo-1\", \"Operation\": \"training\", \"Algorithm\": \"Linear Learner\", \"epoch\": 6}, \"StartTime\": 1557422340.21281}\n",
      "\u001b[0m\n",
      "\u001b[31m#metrics {\"Metrics\": {\"train_binary_classification_cross_entropy_objective\": {\"count\": 1, \"max\": 0.4198363595415455, \"sum\": 0.4198363595415455, \"min\": 0.4198363595415455}}, \"EndTime\": 1557422340.212888, \"Dimensions\": {\"model\": 2, \"Host\": \"algo-1\", \"Operation\": \"training\", \"Algorithm\": \"Linear Learner\", \"epoch\": 6}, \"StartTime\": 1557422340.212871}\n",
      "\u001b[0m\n",
      "\u001b[31m#metrics {\"Metrics\": {\"train_binary_classification_cross_entropy_objective\": {\"count\": 1, \"max\": 0.39939859884099443, \"sum\": 0.39939859884099443, \"min\": 0.39939859884099443}}, \"EndTime\": 1557422340.212969, \"Dimensions\": {\"model\": 3, \"Host\": \"algo-1\", \"Operation\": \"training\", \"Algorithm\": \"Linear Learner\", \"epoch\": 6}, \"StartTime\": 1557422340.212951}\n",
      "\u001b[0m\n",
      "\u001b[31m#metrics {\"Metrics\": {\"train_binary_classification_cross_entropy_objective\": {\"count\": 1, \"max\": 0.36483458810259206, \"sum\": 0.36483458810259206, \"min\": 0.36483458810259206}}, \"EndTime\": 1557422340.213029, \"Dimensions\": {\"model\": 4, \"Host\": \"algo-1\", \"Operation\": \"training\", \"Algorithm\": \"Linear Learner\", \"epoch\": 6}, \"StartTime\": 1557422340.213012}\n",
      "\u001b[0m\n",
      "\u001b[31m#metrics {\"Metrics\": {\"train_binary_classification_cross_entropy_objective\": {\"count\": 1, \"max\": 0.365394408233406, \"sum\": 0.365394408233406, \"min\": 0.365394408233406}}, \"EndTime\": 1557422340.213083, \"Dimensions\": {\"model\": 5, \"Host\": \"algo-1\", \"Operation\": \"training\", \"Algorithm\": \"Linear Learner\", \"epoch\": 6}, \"StartTime\": 1557422340.213068}\n",
      "\u001b[0m\n",
      "\u001b[31m#metrics {\"Metrics\": {\"train_binary_classification_cross_entropy_objective\": {\"count\": 1, \"max\": 0.3648328119322311, \"sum\": 0.3648328119322311, \"min\": 0.3648328119322311}}, \"EndTime\": 1557422340.213134, \"Dimensions\": {\"model\": 6, \"Host\": \"algo-1\", \"Operation\": \"training\", \"Algorithm\": \"Linear Learner\", \"epoch\": 6}, \"StartTime\": 1557422340.21312}\n",
      "\u001b[0m\n",
      "\u001b[31m#metrics {\"Metrics\": {\"train_binary_classification_cross_entropy_objective\": {\"count\": 1, \"max\": 0.36541941727039423, \"sum\": 0.36541941727039423, \"min\": 0.36541941727039423}}, \"EndTime\": 1557422340.21319, \"Dimensions\": {\"model\": 7, \"Host\": \"algo-1\", \"Operation\": \"training\", \"Algorithm\": \"Linear Learner\", \"epoch\": 6}, \"StartTime\": 1557422340.213173}\n",
      "\u001b[0m\n",
      "\u001b[31m#metrics {\"Metrics\": {\"train_binary_classification_cross_entropy_objective\": {\"count\": 1, \"max\": 0.43602296364954274, \"sum\": 0.43602296364954274, \"min\": 0.43602296364954274}}, \"EndTime\": 1557422340.213239, \"Dimensions\": {\"model\": 8, \"Host\": \"algo-1\", \"Operation\": \"training\", \"Algorithm\": \"Linear Learner\", \"epoch\": 6}, \"StartTime\": 1557422340.213224}\n",
      "\u001b[0m\n",
      "\u001b[31m#metrics {\"Metrics\": {\"train_binary_classification_cross_entropy_objective\": {\"count\": 1, \"max\": 0.4268683540285096, \"sum\": 0.4268683540285096, \"min\": 0.4268683540285096}}, \"EndTime\": 1557422340.213295, \"Dimensions\": {\"model\": 9, \"Host\": \"algo-1\", \"Operation\": \"training\", \"Algorithm\": \"Linear Learner\", \"epoch\": 6}, \"StartTime\": 1557422340.213279}\n",
      "\u001b[0m\n",
      "\u001b[31m#metrics {\"Metrics\": {\"train_binary_classification_cross_entropy_objective\": {\"count\": 1, \"max\": 0.4338343936417454, \"sum\": 0.4338343936417454, \"min\": 0.4338343936417454}}, \"EndTime\": 1557422340.213344, \"Dimensions\": {\"model\": 10, \"Host\": \"algo-1\", \"Operation\": \"training\", \"Algorithm\": \"Linear Learner\", \"epoch\": 6}, \"StartTime\": 1557422340.213329}\n",
      "\u001b[0m\n",
      "\u001b[31m#metrics {\"Metrics\": {\"train_binary_classification_cross_entropy_objective\": {\"count\": 1, \"max\": 0.42476467966478926, \"sum\": 0.42476467966478926, \"min\": 0.42476467966478926}}, \"EndTime\": 1557422340.213417, \"Dimensions\": {\"model\": 11, \"Host\": \"algo-1\", \"Operation\": \"training\", \"Algorithm\": \"Linear Learner\", \"epoch\": 6}, \"StartTime\": 1557422340.213391}\n",
      "\u001b[0m\n",
      "\u001b[31m#metrics {\"Metrics\": {\"train_binary_classification_cross_entropy_objective\": {\"count\": 1, \"max\": 0.41923140911723294, \"sum\": 0.41923140911723294, \"min\": 0.41923140911723294}}, \"EndTime\": 1557422340.213466, \"Dimensions\": {\"model\": 12, \"Host\": \"algo-1\", \"Operation\": \"training\", \"Algorithm\": \"Linear Learner\", \"epoch\": 6}, \"StartTime\": 1557422340.213451}\n",
      "\u001b[0m\n",
      "\u001b[31m#metrics {\"Metrics\": {\"train_binary_classification_cross_entropy_objective\": {\"count\": 1, \"max\": 0.41989706066042876, \"sum\": 0.41989706066042876, \"min\": 0.41989706066042876}}, \"EndTime\": 1557422340.213521, \"Dimensions\": {\"model\": 13, \"Host\": \"algo-1\", \"Operation\": \"training\", \"Algorithm\": \"Linear Learner\", \"epoch\": 6}, \"StartTime\": 1557422340.213506}\n",
      "\u001b[0m\n",
      "\u001b[31m#metrics {\"Metrics\": {\"train_binary_classification_cross_entropy_objective\": {\"count\": 1, \"max\": 0.41923041765079944, \"sum\": 0.41923041765079944, \"min\": 0.41923041765079944}}, \"EndTime\": 1557422340.213575, \"Dimensions\": {\"model\": 14, \"Host\": \"algo-1\", \"Operation\": \"training\", \"Algorithm\": \"Linear Learner\", \"epoch\": 6}, \"StartTime\": 1557422340.213561}\n",
      "\u001b[0m\n",
      "\u001b[31m#metrics {\"Metrics\": {\"train_binary_classification_cross_entropy_objective\": {\"count\": 1, \"max\": 0.41989696887112404, \"sum\": 0.41989696887112404, \"min\": 0.41989696887112404}}, \"EndTime\": 1557422340.213667, \"Dimensions\": {\"model\": 15, \"Host\": \"algo-1\", \"Operation\": \"training\", \"Algorithm\": \"Linear Learner\", \"epoch\": 6}, \"StartTime\": 1557422340.213647}\n",
      "\u001b[0m\n",
      "\u001b[31m#metrics {\"Metrics\": {\"train_binary_classification_cross_entropy_objective\": {\"count\": 1, \"max\": 0.5805915446909823, \"sum\": 0.5805915446909823, \"min\": 0.5805915446909823}}, \"EndTime\": 1557422340.213725, \"Dimensions\": {\"model\": 16, \"Host\": \"algo-1\", \"Operation\": \"training\", \"Algorithm\": \"Linear Learner\", \"epoch\": 6}, \"StartTime\": 1557422340.21371}\n",
      "\u001b[0m\n",
      "\u001b[31m#metrics {\"Metrics\": {\"train_binary_classification_cross_entropy_objective\": {\"count\": 1, \"max\": 0.5806505084370458, \"sum\": 0.5806505084370458, \"min\": 0.5806505084370458}}, \"EndTime\": 1557422340.213787, \"Dimensions\": {\"model\": 17, \"Host\": \"algo-1\", \"Operation\": \"training\", \"Algorithm\": \"Linear Learner\", \"epoch\": 6}, \"StartTime\": 1557422340.213771}\n",
      "\u001b[0m\n",
      "\u001b[31m#metrics {\"Metrics\": {\"train_binary_classification_cross_entropy_objective\": {\"count\": 1, \"max\": 0.5805915257653524, \"sum\": 0.5805915257653524, \"min\": 0.5805915257653524}}, \"EndTime\": 1557422340.213848, \"Dimensions\": {\"model\": 18, \"Host\": \"algo-1\", \"Operation\": \"training\", \"Algorithm\": \"Linear Learner\", \"epoch\": 6}, \"StartTime\": 1557422340.213833}\n",
      "\u001b[0m\n",
      "\u001b[31m#metrics {\"Metrics\": {\"train_binary_classification_cross_entropy_objective\": {\"count\": 1, \"max\": 0.580648131851078, \"sum\": 0.580648131851078, \"min\": 0.580648131851078}}, \"EndTime\": 1557422340.213904, \"Dimensions\": {\"model\": 19, \"Host\": \"algo-1\", \"Operation\": \"training\", \"Algorithm\": \"Linear Learner\", \"epoch\": 6}, \"StartTime\": 1557422340.213889}\n",
      "\u001b[0m\n",
      "\u001b[31m#metrics {\"Metrics\": {\"train_binary_classification_cross_entropy_objective\": {\"count\": 1, \"max\": 0.5815439093538033, \"sum\": 0.5815439093538033, \"min\": 0.5815439093538033}}, \"EndTime\": 1557422340.213958, \"Dimensions\": {\"model\": 20, \"Host\": \"algo-1\", \"Operation\": \"training\", \"Algorithm\": \"Linear Learner\", \"epoch\": 6}, \"StartTime\": 1557422340.213944}\n",
      "\u001b[0m\n",
      "\u001b[31m#metrics {\"Metrics\": {\"train_binary_classification_cross_entropy_objective\": {\"count\": 1, \"max\": 0.5819429751847142, \"sum\": 0.5819429751847142, \"min\": 0.5819429751847142}}, \"EndTime\": 1557422340.214011, \"Dimensions\": {\"model\": 21, \"Host\": \"algo-1\", \"Operation\": \"training\", \"Algorithm\": \"Linear Learner\", \"epoch\": 6}, \"StartTime\": 1557422340.213997}\n",
      "\u001b[0m\n",
      "\u001b[31m#metrics {\"Metrics\": {\"train_binary_classification_cross_entropy_objective\": {\"count\": 1, \"max\": 0.5815417191852895, \"sum\": 0.5815417191852895, \"min\": 0.5815417191852895}}, \"EndTime\": 1557422340.214065, \"Dimensions\": {\"model\": 22, \"Host\": \"algo-1\", \"Operation\": \"training\", \"Algorithm\": \"Linear Learner\", \"epoch\": 6}, \"StartTime\": 1557422340.214049}\n",
      "\u001b[0m\n",
      "\u001b[31m#metrics {\"Metrics\": {\"train_binary_classification_cross_entropy_objective\": {\"count\": 1, \"max\": 0.5819430915773377, \"sum\": 0.5819430915773377, \"min\": 0.5819430915773377}}, \"EndTime\": 1557422340.214118, \"Dimensions\": {\"model\": 23, \"Host\": \"algo-1\", \"Operation\": \"training\", \"Algorithm\": \"Linear Learner\", \"epoch\": 6}, \"StartTime\": 1557422340.214102}\n",
      "\u001b[0m\n",
      "\u001b[31m#metrics {\"Metrics\": {\"train_binary_classification_cross_entropy_objective\": {\"count\": 1, \"max\": 0.5990746895250424, \"sum\": 0.5990746895250424, \"min\": 0.5990746895250424}}, \"EndTime\": 1557422340.21417, \"Dimensions\": {\"model\": 24, \"Host\": \"algo-1\", \"Operation\": \"training\", \"Algorithm\": \"Linear Learner\", \"epoch\": 6}, \"StartTime\": 1557422340.214155}\n",
      "\u001b[0m\n",
      "\u001b[31m#metrics {\"Metrics\": {\"train_binary_classification_cross_entropy_objective\": {\"count\": 1, \"max\": 0.59912971153555, \"sum\": 0.59912971153555, \"min\": 0.59912971153555}}, \"EndTime\": 1557422340.214232, \"Dimensions\": {\"model\": 25, \"Host\": \"algo-1\", \"Operation\": \"training\", \"Algorithm\": \"Linear Learner\", \"epoch\": 6}, \"StartTime\": 1557422340.214216}\n",
      "\u001b[0m\n",
      "\u001b[31m#metrics {\"Metrics\": {\"train_binary_classification_cross_entropy_objective\": {\"count\": 1, \"max\": 0.5990751252876696, \"sum\": 0.5990751252876696, \"min\": 0.5990751252876696}}, \"EndTime\": 1557422340.214287, \"Dimensions\": {\"model\": 26, \"Host\": \"algo-1\", \"Operation\": \"training\", \"Algorithm\": \"Linear Learner\", \"epoch\": 6}, \"StartTime\": 1557422340.214271}\n",
      "\u001b[0m\n",
      "\u001b[31m#metrics {\"Metrics\": {\"train_binary_classification_cross_entropy_objective\": {\"count\": 1, \"max\": 0.5991300980915395, \"sum\": 0.5991300980915395, \"min\": 0.5991300980915395}}, \"EndTime\": 1557422340.214341, \"Dimensions\": {\"model\": 27, \"Host\": \"algo-1\", \"Operation\": \"training\", \"Algorithm\": \"Linear Learner\", \"epoch\": 6}, \"StartTime\": 1557422340.214326}\n",
      "\u001b[0m\n",
      "\u001b[31m#metrics {\"Metrics\": {\"train_binary_classification_cross_entropy_objective\": {\"count\": 1, \"max\": 0.6000136061084362, \"sum\": 0.6000136061084362, \"min\": 0.6000136061084362}}, \"EndTime\": 1557422340.214404, \"Dimensions\": {\"model\": 28, \"Host\": \"algo-1\", \"Operation\": \"training\", \"Algorithm\": \"Linear Learner\", \"epoch\": 6}, \"StartTime\": 1557422340.214387}\n",
      "\u001b[0m\n",
      "\u001b[31m#metrics {\"Metrics\": {\"train_binary_classification_cross_entropy_objective\": {\"count\": 1, \"max\": 0.6004422347194465, \"sum\": 0.6004422347194465, \"min\": 0.6004422347194465}}, \"EndTime\": 1557422340.214459, \"Dimensions\": {\"model\": 29, \"Host\": \"algo-1\", \"Operation\": \"training\", \"Algorithm\": \"Linear Learner\", \"epoch\": 6}, \"StartTime\": 1557422340.214443}\n",
      "\u001b[0m\n",
      "\u001b[31m#metrics {\"Metrics\": {\"train_binary_classification_cross_entropy_objective\": {\"count\": 1, \"max\": 0.600014525420906, \"sum\": 0.600014525420906, \"min\": 0.600014525420906}}, \"EndTime\": 1557422340.214511, \"Dimensions\": {\"model\": 30, \"Host\": \"algo-1\", \"Operation\": \"training\", \"Algorithm\": \"Linear Learner\", \"epoch\": 6}, \"StartTime\": 1557422340.214496}\n",
      "\u001b[0m\n",
      "\u001b[31m#metrics {\"Metrics\": {\"train_binary_classification_cross_entropy_objective\": {\"count\": 1, \"max\": 0.6004467721392018, \"sum\": 0.6004467721392018, \"min\": 0.6004467721392018}}, \"EndTime\": 1557422340.214567, \"Dimensions\": {\"model\": 31, \"Host\": \"algo-1\", \"Operation\": \"training\", \"Algorithm\": \"Linear Learner\", \"epoch\": 6}, \"StartTime\": 1557422340.214551}\n",
      "\u001b[0m\n",
      "\u001b[31m[05/09/2019 17:19:00 INFO 140071535105856] #quality_metric: host=algo-1, epoch=6, train binary_classification_cross_entropy_objective <loss>=0.417899440322\u001b[0m\n",
      "\u001b[31m[05/09/2019 17:19:00 INFO 140071535105856] #early_stopping_criteria_metric: host=algo-1, epoch=6, criteria=binary_classification_cross_entropy_objective, value=0.364832811932\u001b[0m\n",
      "\u001b[31m[05/09/2019 17:19:00 INFO 140071535105856] Early stop condition met. Stopping training.\u001b[0m\n",
      "\u001b[31m[05/09/2019 17:19:00 INFO 140071535105856] #progress_metric: host=algo-1, completed 100 % epochs\u001b[0m\n",
      "\u001b[31m#metrics {\"Metrics\": {\"Max Batches Seen Between Resets\": {\"count\": 1, \"max\": 130, \"sum\": 130.0, \"min\": 130}, \"Number of Batches Since Last Reset\": {\"count\": 1, \"max\": 130, \"sum\": 130.0, \"min\": 130}, \"Number of Records Since Last Reset\": {\"count\": 1, \"max\": 129447, \"sum\": 129447.0, \"min\": 129447}, \"Total Batches Seen\": {\"count\": 1, \"max\": 922, \"sum\": 922.0, \"min\": 922}, \"Total Records Seen\": {\"count\": 1, \"max\": 918129, \"sum\": 918129.0, \"min\": 918129}, \"Max Records Seen Between Resets\": {\"count\": 1, \"max\": 129447, \"sum\": 129447.0, \"min\": 129447}, \"Reset Count\": {\"count\": 1, \"max\": 9, \"sum\": 9.0, \"min\": 9}}, \"EndTime\": 1557422340.21657, \"Dimensions\": {\"Host\": \"algo-1\", \"Meta\": \"training_data_iter\", \"Operation\": \"training\", \"Algorithm\": \"Linear Learner\", \"epoch\": 6}, \"StartTime\": 1557422336.237775}\n",
      "\u001b[0m\n",
      "\u001b[31m[05/09/2019 17:19:00 INFO 140071535105856] #throughput_metric: host=algo-1, train throughput=32533.2234964 records/second\u001b[0m\n",
      "\u001b[31m[05/09/2019 17:19:00 WARNING 140071535105856] wait_for_all_workers will not sync workers since the kv store is not running distributed\u001b[0m\n",
      "\u001b[31m[05/09/2019 17:19:00 WARNING 140071535105856] wait_for_all_workers will not sync workers since the kv store is not running distributed\u001b[0m\n",
      "\u001b[31m[2019-05-09 17:19:00.217] [tensorio] [info] data_pipeline_stats={\"name\": \"/opt/ml/input/data/train\", \"epoch\": 8, \"duration\": 3979, \"num_examples\": 130}\u001b[0m\n",
      "\u001b[31m[2019-05-09 17:19:00.221] [tensorio] [info] data_pipeline_stats={\"name\": \"/opt/ml/input/data/train\", \"epoch\": 9, \"duration\": 4, \"num_examples\": 1}\u001b[0m\n",
      "\u001b[31m[2019-05-09 17:19:00.730] [tensorio] [info] data_pipeline_stats={\"name\": \"/opt/ml/input/data/train\", \"epoch\": 10, \"duration\": 506, \"num_examples\": 130}\u001b[0m\n",
      "\u001b[31m[05/09/2019 17:19:01 INFO 140071535105856] #train_score (algo-1) : ('binary_classification_cross_entropy_objective', 0.3673307739786843)\u001b[0m\n",
      "\u001b[31m[05/09/2019 17:19:01 INFO 140071535105856] #train_score (algo-1) : ('binary_classification_accuracy', 0.87387888479454912)\u001b[0m\n",
      "\u001b[31m[05/09/2019 17:19:01 INFO 140071535105856] #train_score (algo-1) : ('binary_f_1.000', 0.914341479794747)\u001b[0m\n",
      "\u001b[31m[05/09/2019 17:19:01 INFO 140071535105856] #train_score (algo-1) : ('precision', 0.8866434662270793)\u001b[0m\n",
      "\u001b[31m[05/09/2019 17:19:01 INFO 140071535105856] #train_score (algo-1) : ('recall', 0.9438258232235702)\u001b[0m\n",
      "\u001b[31m[05/09/2019 17:19:01 INFO 140071535105856] #quality_metric: host=algo-1, train binary_classification_cross_entropy_objective <loss>=0.367330773979\u001b[0m\n",
      "\u001b[31m[05/09/2019 17:19:01 INFO 140071535105856] #quality_metric: host=algo-1, train binary_classification_accuracy <score>=0.873878884795\u001b[0m\n",
      "\u001b[31m[05/09/2019 17:19:01 INFO 140071535105856] #quality_metric: host=algo-1, train binary_f_1.000 <score>=0.914341479795\u001b[0m\n",
      "\u001b[31m[05/09/2019 17:19:01 INFO 140071535105856] #quality_metric: host=algo-1, train precision <score>=0.886643466227\u001b[0m\n",
      "\u001b[31m[05/09/2019 17:19:01 INFO 140071535105856] #quality_metric: host=algo-1, train recall <score>=0.943825823224\u001b[0m\n",
      "\u001b[31m[05/09/2019 17:19:01 INFO 140071535105856] Best model found for hyperparameters: {\"lr_scheduler_step\": 10, \"wd\": 0.0001, \"optimizer\": \"adam\", \"lr_scheduler_factor\": 0.99, \"l1\": 0.0, \"learning_rate\": 0.1, \"lr_scheduler_minimum_lr\": 1e-05}\u001b[0m\n",
      "\u001b[31m[05/09/2019 17:19:01 INFO 140071535105856] Saved checkpoint to \"/tmp/tmpBtYmuR/mx-mod-0000.params\"\u001b[0m\n",
      "\u001b[31m[05/09/2019 17:19:01 INFO 140071535105856] Test data is not provided.\u001b[0m\n",
      "\u001b[31m[2019-05-09 17:19:01.192] [tensorio] [info] data_pipeline_stats={\"name\": \"/opt/ml/input/data/train\", \"epoch\": 11, \"duration\": 462, \"num_examples\": 130}\u001b[0m\n",
      "\u001b[31m[2019-05-09 17:19:01.192] [tensorio] [info] data_pipeline_stats={\"name\": \"/opt/ml/input/data/train\", \"duration\": 28887, \"num_epochs\": 12, \"num_examples\": 1183}\u001b[0m\n",
      "\u001b[31m#metrics {\"Metrics\": {\"totaltime\": {\"count\": 1, \"max\": 29085.750102996826, \"sum\": 29085.750102996826, \"min\": 29085.750102996826}, \"finalize.time\": {\"count\": 1, \"max\": 967.8940773010254, \"sum\": 967.8940773010254, \"min\": 967.8940773010254}, \"initialize.time\": {\"count\": 1, \"max\": 297.9891300201416, \"sum\": 297.9891300201416, \"min\": 297.9891300201416}, \"check_early_stopping.time\": {\"count\": 7, \"max\": 0.8749961853027344, \"sum\": 3.1630992889404297, \"min\": 0.16307830810546875}, \"setuptime\": {\"count\": 1, \"max\": 15.243053436279297, \"sum\": 15.243053436279297, \"min\": 15.243053436279297}, \"update.time\": {\"count\": 7, \"max\": 4259.732007980347, \"sum\": 27715.224742889404, \"min\": 3734.325170516968}, \"epochs\": {\"count\": 1, \"max\": 15, \"sum\": 15.0, \"min\": 15}}, \"EndTime\": 1557422341.193232, \"Dimensions\": {\"Host\": \"algo-1\", \"Operation\": \"training\", \"Algorithm\": \"Linear Learner\"}, \"StartTime\": 1557422312.19417}\n",
      "\u001b[0m\n"
     ]
    },
    {
     "name": "stdout",
     "output_type": "stream",
     "text": [
      "Billable seconds: 89\n",
      "---------------------------------------------------------------------------------------!"
     ]
    }
   ],
   "source": [
    "linear.fit({'train': s3_train_data})\n",
    "linear_predictor = linear.deploy(initial_instance_count=1,\n",
    "                                 instance_type='ml.m4.xlarge')"
   ]
  },
  {
   "cell_type": "code",
   "execution_count": 75,
   "metadata": {},
   "outputs": [],
   "source": [
    "# Set up\n",
    "from sagemaker.predictor import csv_serializer, json_deserializer\n",
    "linear_predictor.content_type = 'text/csv'\n",
    "linear_predictor.serializer = csv_serializer\n",
    "linear_predictor.deserializer = json_deserializer"
   ]
  },
  {
   "cell_type": "code",
   "execution_count": 78,
   "metadata": {},
   "outputs": [],
   "source": [
    "predictions = []\n",
    "for array in modelData_validate:\n",
    "    result = linear_predictor.predict(array)\n",
    "    predictions += [r['score'] for r in result['predictions']]\n",
    "predictions = np.array(predictions)\n",
    "# Push into our pandas dataframe\n",
    "#alm['Predicted'] = predictions.astype(int))"
   ]
  },
  {
   "cell_type": "code",
   "execution_count": 79,
   "metadata": {},
   "outputs": [
    {
     "data": {
      "text/plain": [
       "array([0.2660661 , 0.60538584, 0.64015859, 0.39238665, 0.86609471,\n",
       "       0.99892151, 0.63084471, 0.2660661 , 1.        , 0.10562352])"
      ]
     },
     "execution_count": 79,
     "metadata": {},
     "output_type": "execute_result"
    }
   ],
   "source": [
    "predictions[0:10]"
   ]
  },
  {
   "cell_type": "code",
   "execution_count": 82,
   "metadata": {},
   "outputs": [
    {
     "data": {
      "text/plain": [
       "130720    False\n",
       "130007     True\n",
       "79613      True\n",
       "173933    False\n",
       "39967      True\n",
       "16985      True\n",
       "106419     True\n",
       "117653    False\n",
       "108355     True\n",
       "174170    False\n",
       "122458    False\n",
       "90913      True\n",
       "22058      True\n",
       "153090     True\n",
       "13278      True\n",
       "88245      True\n",
       "157885    False\n",
       "86443      True\n",
       "24010      True\n",
       "23296      True\n",
       "120000     True\n",
       "54830      True\n",
       "160907     True\n",
       "97988      True\n",
       "48240      True\n",
       "33266      True\n",
       "125864     True\n",
       "60180      True\n",
       "173770    False\n",
       "107253     True\n",
       "          ...  \n",
       "128748     True\n",
       "115944     True\n",
       "61762      True\n",
       "106560     True\n",
       "150163    False\n",
       "22299      True\n",
       "19246      True\n",
       "75143      True\n",
       "67526      True\n",
       "100814     True\n",
       "82551      True\n",
       "24872      True\n",
       "93838      True\n",
       "171056    False\n",
       "78826      True\n",
       "108399     True\n",
       "59803      True\n",
       "70047      True\n",
       "13397      True\n",
       "86767      True\n",
       "88414     False\n",
       "55886      True\n",
       "81289      True\n",
       "12722      True\n",
       "126167    False\n",
       "167665    False\n",
       "137015    False\n",
       "161957    False\n",
       "37126      True\n",
       "3550      False\n",
       "Name: cited, Length: 27739, dtype: bool"
      ]
     },
     "execution_count": 82,
     "metadata": {},
     "output_type": "execute_result"
    }
   ],
   "source": [
    "alm_validate['cited']"
   ]
  },
  {
   "cell_type": "code",
   "execution_count": 86,
   "metadata": {
    "scrolled": true
   },
   "outputs": [
    {
     "data": {
      "text/plain": [
       "array([[ 5391,  2432],\n",
       "       [ 1031, 18885]])"
      ]
     },
     "execution_count": 86,
     "metadata": {},
     "output_type": "execute_result"
    }
   ],
   "source": [
    "from sklearn.metrics import confusion_matrix\n",
    "confusion_matrix(alm_validate['cited'], np.where(predictions >0.5, 1, 0))"
   ]
  },
  {
   "cell_type": "code",
   "execution_count": 88,
   "metadata": {},
   "outputs": [
    {
     "name": "stdout",
     "output_type": "stream",
     "text": [
      "Predicted     0      1    All\n",
      "Actual                       \n",
      "False      5391   2432   7823\n",
      "True       1031  18885  19916\n",
      "All        6422  21317  27739\n"
     ]
    }
   ],
   "source": [
    "df_confusion = pd.crosstab(alm_validate['cited'], np.where(predictions >0.5, 1, 0), rownames=['Actual'], colnames=['Predicted'], margins=True)\n",
    "print(df_confusion)"
   ]
  },
  {
   "cell_type": "code",
   "execution_count": 91,
   "metadata": {},
   "outputs": [
    {
     "data": {
      "text/plain": [
       "0.8751577201773676"
      ]
     },
     "execution_count": 91,
     "metadata": {},
     "output_type": "execute_result"
    }
   ],
   "source": [
    "import sklearn.metrics as sk\n",
    "sk.accuracy_score(alm_validate['cited'], np.where(predictions >0.5, 1, 0), normalize=True, sample_weight=None)"
   ]
  },
  {
   "cell_type": "code",
   "execution_count": 92,
   "metadata": {},
   "outputs": [],
   "source": [
    "sagemaker.Session().delete_endpoint(linear_predictor.endpoint)"
   ]
  }
 ],
 "metadata": {
  "kernelspec": {
   "display_name": "conda_python3",
   "language": "python",
   "name": "conda_python3"
  },
  "language_info": {
   "codemirror_mode": {
    "name": "ipython",
    "version": 3
   },
   "file_extension": ".py",
   "mimetype": "text/x-python",
   "name": "python",
   "nbconvert_exporter": "python",
   "pygments_lexer": "ipython3",
   "version": "3.6.5"
  }
 },
 "nbformat": 4,
 "nbformat_minor": 2
}
